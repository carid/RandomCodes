{
 "cells": [
  {
   "cell_type": "markdown",
   "metadata": {},
   "source": [
    "For a two-level system\n",
    "\n",
    "$\\Gamma$ is the spontaneous decay rate. $\\delta$ and $I$ are the detuning and the intensity of  the laser. $\\Omega$ is the Rabi frequency."
   ]
  },
  {
   "cell_type": "markdown",
   "metadata": {},
   "source": [
    "The steady state solution of the optical Bloch equations for the upper state population is\n",
    "\n",
    "$\\rho_{22}=\\frac{\\Omega^2/4}{\\delta^2+\\Omega^2/2+\\Gamma^2/4}$ (Foot, pp137, equ 7.69)\n",
    "\n",
    "Compare this with a simple rate model\n",
    "\n",
    "$\\frac{d\\rho_{2}}{dt}=(\\rho_1-\\rho_2)\\tau I-\\Gamma \\rho_2$\n",
    "\n",
    "$\\frac{d\\rho_{1}}{dt}=-\\frac{d\\rho_{2}}{dt}$\n",
    "\n",
    "which is\n",
    "\n",
    "$\\rho_{2}=\\frac{\\tau I}{2\\tau I+\\Gamma}$\n"
   ]
  },
  {
   "cell_type": "markdown",
   "metadata": {},
   "source": [
    "We can estimate the stimulated emission rate as \n",
    "\n",
    "$\\tau I= \\frac{\\Omega^2}{\\Gamma}\\frac{\\Gamma^2/4}{\\delta^2+\\Gamma^2/4}$ (Saturation parameter)"
   ]
  },
  {
   "cell_type": "code",
   "execution_count": null,
   "metadata": {
    "collapsed": true
   },
   "outputs": [],
   "source": []
  }
 ],
 "metadata": {
  "kernelspec": {
   "display_name": "Python 2",
   "language": "python",
   "name": "python2"
  },
  "language_info": {
   "codemirror_mode": {
    "name": "ipython",
    "version": 2
   },
   "file_extension": ".py",
   "mimetype": "text/x-python",
   "name": "python",
   "nbconvert_exporter": "python",
   "pygments_lexer": "ipython2",
   "version": "2.7.10"
  }
 },
 "nbformat": 4,
 "nbformat_minor": 1
}
