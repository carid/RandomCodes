{
 "cells": [
  {
   "cell_type": "markdown",
   "metadata": {},
   "source": [
    "For $^1S_0-3^P_1$ transition of $^{88} Sr$, the linewidth is $2\\pi \\times7.5 kHz$. Due to Doppler broadening, the boserved linewidth at $2\\mu K$ should be $46.4 kHz$, close to their measured value of $45 kHz$"
   ]
  },
  {
   "cell_type": "code",
   "execution_count": 29,
   "metadata": {
    "collapsed": false
   },
   "outputs": [
    {
     "name": "stdout",
     "output_type": "stream",
     "text": [
      "46.393982855 kHz\n"
     ]
    }
   ],
   "source": [
    "from numpy import sqrt, log\n",
    "\n",
    "kb=1.388*10**(-23)\n",
    "m=88*1.668*10**(-27)\n",
    "T=2*10**(-6)\n",
    "u=sqrt(2*kb*T/m)\n",
    "c=2.998*10**8\n",
    "f0=429502 #GHz\n",
    "delta_f=2*sqrt(log(2))*u/c*f0 #GHz\n",
    "print delta_f*10**6, 'kHz'"
   ]
  },
  {
   "cell_type": "markdown",
   "metadata": {},
   "source": [
    "They further reduced the Doppler limitations to $26 Hz$ by collimating the probe beam, controlling the beam angle relative to gracity, the multi tilt of the two probes, and the intensity balance"
   ]
  },
  {
   "cell_type": "code",
   "execution_count": null,
   "metadata": {
    "collapsed": true
   },
   "outputs": [],
   "source": []
  }
 ],
 "metadata": {
  "kernelspec": {
   "display_name": "Python 2",
   "language": "python",
   "name": "python2"
  },
  "language_info": {
   "codemirror_mode": {
    "name": "ipython",
    "version": 2
   },
   "file_extension": ".py",
   "mimetype": "text/x-python",
   "name": "python",
   "nbconvert_exporter": "python",
   "pygments_lexer": "ipython2",
   "version": "2.7.6"
  }
 },
 "nbformat": 4,
 "nbformat_minor": 0
}
