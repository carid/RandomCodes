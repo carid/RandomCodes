{
 "cells": [
  {
   "cell_type": "markdown",
   "metadata": {},
   "source": [
    "# 1. Thermal state of radiation"
   ]
  },
  {
   "cell_type": "markdown",
   "metadata": {},
   "source": [
    "## Part 1"
   ]
  },
  {
   "cell_type": "markdown",
   "metadata": {},
   "source": [
    "For EM modes in a cavity (omitting zero-point energy)\n",
    "\n",
    "$E_i = \\hbar \\omega_i n_i $\n",
    "\n",
    "$H = \\sum_i \\hbar \\omega_i a_i^+ a_i$\n",
    "\n",
    "Consider the eigenbasis of $\\rho$, which is (number basis) $\\{ \\mid \\phi_{E_i} \\rangle, i \\in \\mbox {modes}\\}$. According to canonical ensenble theory\n",
    "\n",
    "$\\rho= \\sum_i \\frac{e^{-\\beta E_i}}{Z} \\mid \\phi_{E_i} \\rangle \\langle \\phi_{E_i} \\mid= \\sum_i  \\frac{e^{-\\beta \\hbar \\omega_i a_i^+ a_i}}{Z} \\mid \\phi_{E_i} \\rangle  \\langle \\phi_{E_i} \\mid = \\frac{e^{-\\beta \\sum_i \\hbar \\omega_i a_i^+ a_i }}{Z}$\n",
    "\n",
    "The expactation value of the offdiagonal operator $a_ia_j^+ (i \\neq j)$ is \n",
    "\n",
    "$\\mbox{Tr}(\\rho a_i a_j^+)=\\sum_m \\mid \\phi_{E_m} \\rangle \\frac{e^{-\\beta \\sum_i \\hbar \\omega_i a_i^+ a_i }}{Z} a_ia_j^+\\langle \\phi_{E_m} \\mid=\\sum_{mn} \\mid \\phi_{E_m} \\rangle \\frac{e^{-\\beta \\sum_i \\hbar \\omega_i a_i^+ a_i }}{Z}\\langle \\phi_{E_n} \\mid  \\phi_{E_n} \\rangle a_ia_j^+\\langle \\phi_{E_m} \\mid=\\sum_{mn} \\delta_{mn}\\frac{e^{-\\beta E_m}}{Z}\\mid \\phi_{E_m} \\rangle \\langle \\phi_{E_n} \\mid  \\phi_{E_n} \\rangle a_ia_j^+\\langle \\phi_{E_m} \\mid = \\sum_{m} \\frac{e^{-\\beta E_m}}{Z}\\mid \\phi_{E_m} \\rangle  a_ia_j^+\\langle \\phi_{E_m} \\mid=0 \\ (i \\neq j)$"
   ]
  },
  {
   "cell_type": "markdown",
   "metadata": {},
   "source": [
    "## Part 2"
   ]
  },
  {
   "cell_type": "markdown",
   "metadata": {},
   "source": [
    "Similarly, for any operator $A$ with zero diagonal elements, ie, $\\mid \\phi_{E_m} \\rangle  A\\langle \\phi_{E_m} \\mid=0$ for all $m$\n",
    "\n",
    "$\\mbox{Tr}(\\rho A)=\\sum_m \\mid \\phi_{E_m} \\rangle \\frac{e^{-\\beta \\sum_i \\hbar \\omega_i a_i^+ a_i }}{Z} A\\langle \\phi_{E_m} \\mid=\\sum_{mn} \\mid \\phi_{E_m} \\rangle \\frac{e^{-\\beta \\sum_i \\hbar \\omega_i a_i^+ a_i }}{Z}\\langle \\phi_{E_n} \\mid  \\phi_{E_n} \\rangle A\\langle \\phi_{E_m} \\mid=\\sum_{mn} \\delta_{mn}\\frac{e^{-\\beta E_m}}{Z}\\mid \\phi_{E_m} \\rangle \\langle \\phi_{E_n} \\mid  \\phi_{E_n} \\rangle A\\langle \\phi_{E_m} \\mid = \\sum_{m} \\frac{e^{-\\beta E_m}}{Z}\\mid \\phi_{E_m} \\rangle  A\\langle \\phi_{E_m} \\mid=0$"
   ]
  },
  {
   "cell_type": "markdown",
   "metadata": {},
   "source": [
    "# 2. Four wave  mixing"
   ]
  },
  {
   "cell_type": "markdown",
   "metadata": {},
   "source": [
    "## Part 1"
   ]
  },
  {
   "cell_type": "markdown",
   "metadata": {},
   "source": [
    "With no damping, the equation of motion is given by \n",
    "\n",
    "$H(t) = H_0 - \\mu \\cdot (\\varepsilon_1(t)+\\varepsilon_2(t))$\n",
    "\n",
    "$\\mid \\psi(t) \\rangle = a(t) e^{-i \\frac{E_1}{\\hbar} t} \\mid 1 \\rangle + b(t) e^{-i \\frac{E_2}{\\hbar} t} \\mid 2 \\rangle$\n",
    "\n",
    "Or writting explicitly\n",
    "\n",
    "$i\\hbar \\frac{da}{dt} = -\\mu_{12}(\\varepsilon_1(t)+\\varepsilon_2(t))e^{-i \\Omega t}b$\n",
    "\n",
    "$i\\hbar \\frac{db}{dt} = -\\mu_{21}(\\varepsilon_1(t)+\\varepsilon_2(t))e^{i \\Omega t}a$\n",
    "\n",
    "Assume $\\mu_{12}=\\mu_{21}=\\mu$ is real, and using\n",
    "\n",
    "$\\varepsilon_1(t)=\\frac{1}{2}(\\varepsilon_1^-e^{-i\\omega_1 t}+\\varepsilon_1^+e^{i\\omega_1 t})$\n",
    "\n",
    "$\\varepsilon_2(t)=\\frac{1}{2}(\\varepsilon_2^-e^{-i\\omega_1 t}+\\varepsilon_2^+e^{i\\omega_1 t})$\n",
    "\n",
    "We have (rotating wave approximation)\n",
    "\n",
    "$i\\hbar \\frac{da}{dt} = -\\mu_{12}\\frac{1}{2}(\\varepsilon_1^+e^{i\\omega_1 t}+\\varepsilon_2^+e^{i\\omega_2 t})e^{-i \\Omega t}b$\n",
    "\n",
    "$i\\hbar \\frac{db}{dt} = -\\mu_{21}\\frac{1}{2}(\\varepsilon_1^-e^{-i\\omega_1 t}+\\varepsilon_2^-e^{-i\\omega_2 t})e^{i \\Omega t}a$\n",
    "\n",
    "Define $\\omega_2-\\Omega=\\Omega-\\omega_1=\\delta$\n",
    "\n",
    "$\\frac{da}{dt} = i\\frac{\\mu_{12}}{2 \\hbar}(\\varepsilon_1^+e^{-i\\delta t}+\\varepsilon_2^+e^{i\\delta t})b$\n",
    "\n",
    "$\\frac{db}{dt} = i\\frac{\\mu_{21}}{2 \\hbar}(\\varepsilon_1^-e^{i\\delta t}+\\varepsilon_2^-e^{-i\\delta t})a$\n",
    "\n",
    "The time-averaged eletric dipole is\n",
    "\n",
    "$N \\langle \\mu \\rangle = N a^*be^{-i \\Omega t}\\mu_{12}+N ab^*e^{i \\Omega t}\\mu_{21}=P_{12}\\mu_{12}+P_{21}\\mu_{21}$\n",
    "\n",
    "Therefore\n",
    "\n",
    "$\\frac{d P_{12}}{dt}=N \\frac{da^*}{dt}be^{-i \\Omega t}+N a^*\\frac{db}{dt}e^{-i \\Omega t}-i\\Omega N a^*be^{-i \\Omega t}=-iN \\frac{\\mu_{21}}{2 \\hbar}(\\varepsilon_1^-e^{i\\delta t}+\\varepsilon_2^-e^{-i\\delta t})b^*be^{-i \\Omega t}+iN \\frac{\\mu_{21}}{2 \\hbar}(\\varepsilon_1^-e^{i\\delta t}+\\varepsilon_2^-e^{-i\\delta t})a^*a e^{-i \\Omega t} -iN \\Omega a^*be^{-i \\Omega t}=-i\\frac{\\mu_{21}}{2 \\hbar}(\\varepsilon_1^-e^{-i\\omega_1 t}+\\varepsilon_2^-e^{-i\\omega_2 t})N(b^*b-a^*a)-i\\Omega P_{12}$\n",
    "\n",
    "$\\frac{d P_{21}}{dt}=...=i\\frac{\\mu_{12}}{2 \\hbar}(\\varepsilon_1^+e^{i\\omega_1 t}+\\varepsilon_2^+e^{i\\omega_2 t})N(b^*b-a^*a)+i\\Omega P_{21}$\n",
    "\n",
    "Define $N a^*a=P_{11}, N b^*b=P_{22}$, then\n",
    "\n",
    "$\\frac{d P_{12}}{dt}=-i\\frac{\\mu_{21}}{2 \\hbar}(\\varepsilon_1^-e^{-i\\omega_1 t}+\\varepsilon_2^-e^{-i\\omega_2 t})(P_{22}-P_{11})-i\\Omega P_{12}$\n",
    "\n",
    "$\\frac{d P_{21}}{dt}=i\\frac{\\mu_{12}}{2 \\hbar}(\\varepsilon_1^+e^{i\\omega_1 t}+\\varepsilon_2^+e^{i\\omega_2 t})(P_{22}-P_{11})+i\\Omega P_{21}$\n",
    "\n",
    "$\\frac{d P_{11}}{dt}=N \\frac{da^*}{dt}a + N a^*\\frac{da}{dt}=-iN \\frac{\\mu_{21}}{2 \\hbar}(\\varepsilon_1^-e^{i\\delta t}+\\varepsilon_2^-e^{-i\\delta t})b^*a+iN\\frac{\\mu_{12}}{2 \\hbar}(\\varepsilon_1^+e^{-i\\delta t}+\\varepsilon_2^+e^{i\\delta t})a^*b=-i \\frac{\\mu_{21}}{2 \\hbar}(\\varepsilon_1^-e^{-i\\omega_1 t}+\\varepsilon_2^-e^{-i\\omega_2 t})P_{21} +i\\frac{\\mu_{12}}{2 \\hbar}(\\varepsilon_1^+e^{i\\omega_1 t}+\\varepsilon_2^+e^{i\\omega_2 t})P_{12}$\n",
    "\n",
    "$\\frac{d P_{22}}{dt}=...=i \\frac{\\mu_{21}}{2 \\hbar}(\\varepsilon_1^-e^{-i\\omega_1 t}+\\varepsilon_2^-e^{-i\\omega_2 t})P_{21} -i\\frac{\\mu_{12}}{2 \\hbar}(\\varepsilon_1^+e^{i\\omega_1 t}+\\varepsilon_2^+e^{i\\omega_2 t})P_{12}$\n",
    "\n",
    "Define $P_{22}-P_{11}=\\Delta N$, the last two equations are equivalent to\n",
    "\n",
    "$\\frac{d \\Delta N}{dt}=2i \\frac{\\mu_{21}}{2 \\hbar}(\\varepsilon_1^-e^{-i\\omega_1 t}+\\varepsilon_2^-e^{-i\\omega_2 t})P_{21} -2i\\frac{\\mu_{12}}{2 \\hbar}(\\varepsilon_1^+e^{i\\omega_1 t}+\\varepsilon_2^+e^{i\\omega_2 t})P_{12}$\n",
    "\n",
    "Add damping terms $T_2$ and $T_1$\n",
    "\n",
    "$\\frac{d P_{12}}{dt}=-i\\frac{\\mu_{21}}{2 \\hbar}(\\varepsilon_1^-e^{-i\\omega_1 t}+\\varepsilon_2^-e^{-i\\omega_2 t})\\Delta N-i\\Omega P_{12}-\\frac{1}{T_2} P_{12}$\n",
    "\n",
    "$\\frac{d P_{21}}{dt}=i\\frac{\\mu_{12}}{2 \\hbar}(\\varepsilon_1^+e^{i\\omega_1 t}+\\varepsilon_2^+e^{i\\omega_2 t})\\Delta N+i\\Omega P_{21}-\\frac{1}{T_2} P_{21}$\n",
    "\n",
    "$\\frac{d \\Delta N}{dt}=2i \\frac{\\mu_{21}}{2 \\hbar}(\\varepsilon_1^-e^{-i\\omega_1 t}+\\varepsilon_2^-e^{-i\\omega_2 t})P_{21} -2i\\frac{\\mu_{12}}{2 \\hbar}(\\varepsilon_1^+e^{i\\omega_1 t}+\\varepsilon_2^+e^{i\\omega_2 t})P_{12}-\\frac{\\Delta N -\\overline{\\Delta N}}{T_1}$"
   ]
  },
  {
   "cell_type": "markdown",
   "metadata": {},
   "source": [
    "## Part 2"
   ]
  },
  {
   "cell_type": "markdown",
   "metadata": {},
   "source": [
    "Since $T_2$ is the fastest time scale, the above rate equations can be solved by first assuming $\\Delta N$ is constant and solving the first two equations, and then plugging the solutions to the third one and solving $\\Delta N$.\n",
    "\n",
    "Given $\\Delta N (t)$\n",
    "\n",
    "$P_{12}(t)=P_{12}(0)e^{(-i \\Omega -\\frac{1}{T_2})t}-i\\frac{\\mu_{21}}{2 \\hbar}\\int_0^{t^{'}} dt^{'}(\\varepsilon_1^-e^{-i\\omega_1 t^{'}}+\\varepsilon_2^-e^{-i\\omega_2 t^{'}})\\Delta N (t^{'})e^{(-i \\Omega -\\frac{1}{T_2}) (t-t^{'})} \\simeq -i\\frac{\\mu_{21}}{2 \\hbar}\\Delta N(t)\\int_0^{t^{'}} dt^{'}(\\varepsilon_1^-e^{-i\\omega_1 t^{'}}+\\varepsilon_2^-e^{-i\\omega_2 t^{'}})e^{(-i \\Omega -\\frac{1}{T_2}) (t-t^{'})}$\n",
    "\n",
    "where\n",
    "\n",
    "$\\int_0^{t^{'}} dt^{'}\\varepsilon_1^-e^{-i\\omega_1 t^{'}}e^{(-i \\Omega -\\frac{1}{T_2}) (t-t^{'})}+\\int_0^{t^{'}} dt^{'}\\varepsilon_2^-e^{-i\\omega_2 t^{'}}e^{(-i \\Omega -\\frac{1}{T_2}) (t-t^{'})} =e^{-i \\omega_1t}\n",
    "\\int_0^{t^{'}} dt^{'}\\varepsilon_1^-e^{(-i (\\Omega - \\omega_1)-\\frac{1}{T_2}) (t-t^{'})}+e^{-i \\omega_2 t}\\int_0^{t^{'}} dt^{'}\\varepsilon_2^-e^{(-i (\\Omega-\\omega_2) -\\frac{1}{T_2}) (t-t^{'})} \\simeq e^{-i \\omega_1t}\n",
    "\\int_{0}^{\\infty} dt^{'}\\varepsilon_1^-e^{(-i (\\Omega - \\omega_1)-\\frac{1}{T_2}) t^{'}}+e^{-i \\omega_2 t}\\int_0^{\\infty} dt^{'}\\varepsilon_2^-e^{(-i (\\Omega-\\omega_2) -\\frac{1}{T_2}) t^{'}}= \n",
    "\\varepsilon_1^- e^{-i \\omega_1t} \\frac{1}{i (\\Omega - \\omega_1)+\\frac{1}{T_2}}+\\varepsilon_2^- e^{-i \\omega_2t} \\frac{1}{i (\\Omega - \\omega_2)+\\frac{1}{T_2}}$\n",
    "\n",
    "Then \n",
    "\n",
    "$P_{12}(t)=-i\\frac{\\mu_{21}}{2 \\hbar}\\Delta N(t)\\{ \\varepsilon_1^- e^{-i \\omega_1t} \\frac{1}{i (\\Omega - \\omega_1)+\\frac{1}{T_2}}+\\varepsilon_2^- e^{-i \\omega_2t} \\frac{1}{i (\\Omega - \\omega_2)+\\frac{1}{T_2}} \\}$\n",
    "\n",
    "$P^-(t)=P_{12}(t)\\mu_{12}=-i\\frac{\\mu_{21}\\mu_{12}}{2 \\hbar}\\Delta N(t)\\{ \\varepsilon_1^- e^{-i \\omega_1t} \\frac{1}{i (\\Omega - \\omega_1)+\\frac{1}{T_2}}+\\varepsilon_2^- e^{-i \\omega_2t} \\frac{1}{i (\\Omega - \\omega_2)+\\frac{1}{T_2}} \\}=\\epsilon_0 \\chi(-\\omega_1, \\Delta N(t))\\frac{1}{2}\\varepsilon_1^- e^{-i \\omega_1t}+\\epsilon_0 \\chi(-\\omega_2, \\Delta N(t))\\frac{1}{2}\\varepsilon_2^- e^{-i \\omega_2t}$\n",
    "\n",
    "(Since $\\varepsilon^- = \\frac{1}{2}(\\varepsilon_1^-e^{-i \\omega_1t}+\\varepsilon_2^-e^{-i \\omega_2t})$, there should be a $\\frac{1}{2}$)\n",
    "\n",
    "where \n",
    "\n",
    "$\\chi(-\\omega_i, \\Delta N(t)) = -i\\frac{\\mu_{21}\\mu_{12}}{\\epsilon_0 \\hbar}\\Delta N(t)\\frac{1}{i (\\Omega - \\omega_i)+\\frac{1}{T_2}}$"
   ]
  },
  {
   "cell_type": "markdown",
   "metadata": {},
   "source": [
    "## Part 3"
   ]
  },
  {
   "cell_type": "markdown",
   "metadata": {},
   "source": [
    "### 1 Inversion density rate equation\n",
    "\n",
    "Since $\\frac{d \\Delta N}{dt}=2i \\frac{\\mu_{21}}{2 \\hbar}(\\varepsilon_1^-e^{-i\\omega_1 t}+\\varepsilon_2^-e^{-i\\omega_2 t})P_{21} -2i\\frac{\\mu_{12}}{2 \\hbar}(\\varepsilon_1^+e^{i\\omega_1 t}+\\varepsilon_2^+e^{i\\omega_2 t})P_{12}-\\frac{\\Delta N -\\overline{\\Delta N}}{T_1}$\n",
    "\n",
    "$P_{12}(t)\\mu_{12}=\\epsilon_0 \\Delta N \\chi(-\\omega_1, 1)\\frac{1}{2}\\varepsilon_1^- e^{-i \\omega_1t}+\\epsilon_0  \\Delta N \\chi(-\\omega_2, 1)\\frac{1}{2}\\varepsilon_2^- e^{-i \\omega_2t}$\n",
    "\n",
    "\n",
    "Then\n",
    "\n",
    "$\\frac{d \\Delta N}{dt}= -\\frac{i \\epsilon}{2\\hbar}\\Delta N(\\varepsilon_1^+e^{i\\omega_1 t}+\\varepsilon_2^+e^{i\\omega_2 t})(\\chi(-\\omega_1, 1)\\varepsilon_1^- e^{-i \\omega_1t}+\\chi(-\\omega_2, 1)\\varepsilon_2^- e^{-i \\omega_2t})-\\frac{\\Delta N -\\overline{\\Delta N}}{2T_1} + c.c.$\n",
    "\n",
    "Or\n",
    "\n",
    "$\\frac{d \\Delta N}{dt}\n",
    "=- \\frac{i \\epsilon_0}{2\\hbar}\\Delta N\\{\\varepsilon_1^- \\varepsilon_1^+ \\chi(-\\omega_1, 1)+\\varepsilon_2^- \\varepsilon_2^+ \\chi(-\\omega_2, 1)+\\varepsilon_1^-\\varepsilon_2^+e^{-i(\\omega_1-\\omega_2) t} \\chi(-\\omega_1, 1) + \\varepsilon_1^+\\varepsilon_2^-e^{i(\\omega_1-\\omega_2) t} \\chi(-\\omega_2, 1)\\} -\\frac{\\Delta N -\\overline{\\Delta N}}{2T_1}+ c.c.$"
   ]
  },
  {
   "cell_type": "markdown",
   "metadata": {},
   "source": [
    "### 2 Linearize the inversion density rate equation"
   ]
  },
  {
   "cell_type": "markdown",
   "metadata": {},
   "source": [
    "(1) Assume $\\Delta N = \\Delta N_0 + \\eta (t)$, where $\\Delta N_0$ is the steady state and $\\eta (t)$ is a small-signal time-dependent inversion, then\n",
    "\n",
    "$\\frac{d \\Delta N}{dt}=\\frac{d \\eta}{dt}=- \\frac{i \\epsilon_0}{2\\hbar}(\\Delta N_0 + \\eta)\\{\\varepsilon_1^- \\varepsilon_1^+ \\chi(-\\omega_1, 1)+\\varepsilon_2^- \\varepsilon_2^+ \\chi(-\\omega_2, 1)+\\varepsilon_1^-\\varepsilon_2^+e^{-i(\\omega_1-\\omega_2) t} \\chi(-\\omega_1, 1) + \\varepsilon_1^+\\varepsilon_2^-e^{i(\\omega_1-\\omega_2) t} \\chi(-\\omega_2, 1)\\} -\\frac{\\Delta N_0 -\\overline{\\Delta N}+ \\eta}{2 T_1} + c.c.$\n",
    "\n",
    "Since $\\Delta N_0$ is the steady state inversion\n",
    "\n",
    "$\\frac{d \\Delta N_0}{dt}=- \\frac{i \\epsilon_0}{2\\hbar}\\Delta N_0 \\{\\varepsilon_1^- \\varepsilon_1^+ \\chi(-\\omega_1, 1)+\\varepsilon_2^- \\varepsilon_2^+ \\chi(-\\omega_2, 1)\\} -\\frac{\\Delta N_0 -\\overline{\\Delta N}}{2T_1} + c.c.=0$\n",
    "\n",
    "Then\n",
    "\n",
    "$\\frac{d \\eta}{dt}=- \\frac{i \\epsilon_0}{2\\hbar} \\eta\\{\\varepsilon_1^- \\varepsilon_1^+ \\chi(-\\omega_1, 1)+\\varepsilon_2^- \\varepsilon_2^+ \\chi(-\\omega_2, 1) \\}- \\frac{i \\epsilon_0}{2\\hbar} (\\Delta N_0 +\\eta) \\{\\varepsilon_1^-\\varepsilon_2^+e^{-i(\\omega_1-\\omega_2) t} \\chi(-\\omega_1, 1) + \\varepsilon_1^+\\varepsilon_2^-e^{+i(\\omega_1-\\omega_2) t} \\chi(-\\omega_2, 1)\\} -\\frac{\\eta}{2T_1}+ c.c.$\n",
    "\n",
    "Since $\\Delta N_0 \\gg \\eta$\n",
    "\n",
    "$\\frac{d \\eta}{dt}\\simeq - \\frac{i \\epsilon_0}{2\\hbar} \\eta\\{\\varepsilon_1^- \\varepsilon_1^+ \\chi(-\\omega_1, 1)+\\varepsilon_2^- \\varepsilon_2^+ \\chi(-\\omega_2, 1) \\}- \\frac{i \\epsilon_0}{2\\hbar} \\Delta N_0  \\{\\varepsilon_1^-\\varepsilon_2^+e^{-i(\\omega_1-\\omega_2) t} \\chi(-\\omega_1, 1) + \\varepsilon_1^+\\varepsilon_2^-e^{+i(\\omega_1-\\omega_2) t} \\chi(-\\omega_2, 1)\\} -\\frac{\\eta}{2T_1}+ c.c.$"
   ]
  },
  {
   "cell_type": "markdown",
   "metadata": {},
   "source": [
    "(2) Let $\\eta(t)=\\eta^+ e^{i(\\omega_1-\\omega_2)t}+ \\eta^- e^{-i(\\omega_1-\\omega_2)t}$, then\n",
    "\n",
    "$\\frac{d \\eta}{dt}=\\frac{d \\eta^+}{dt}e^{i(\\omega_1-\\omega_2)t}+\\frac{d \\eta^-}{dt}e^{-i(\\omega_1-\\omega_2)t} + i(\\omega_1-\\omega_2) (\\eta^+ e^{i(\\omega_1-\\omega_2)t}- \\eta^- e^{-i(\\omega_1-\\omega_2)t})= - \\frac{i \\epsilon_0}{2\\hbar} (\\eta^+ e^{i(\\omega_1-\\omega_2)t}+ \\eta^- e^{-i(\\omega_1-\\omega_2)t})\\{\\varepsilon_1^- \\varepsilon_1^+ \\chi(-\\omega_1, 1)+\\varepsilon_2^- \\varepsilon_2^+ \\chi(-\\omega_2, 1) \\}- \\frac{i \\epsilon_0}{2\\hbar} \\Delta N_0  \\{\\varepsilon_1^-\\varepsilon_2^+e^{-i(\\omega_1-\\omega_2) t} \\chi(-\\omega_1, 1) + \\varepsilon_1^+\\varepsilon_2^-e^{i(\\omega_1-\\omega_2) t} \\chi(-\\omega_2, 1)\\} -\\frac{\\eta^+ e^{i(\\omega_1-\\omega_2)t}+ \\eta^- e^{-i(\\omega_1-\\omega_2)t}}{2T_1}+ c.c.$\n",
    "\n",
    "Or writing separately\n",
    "\n",
    "$\\frac{d \\eta^+}{dt} +i(\\omega_1-\\omega_2) \\eta^+ = -\\frac{ i \\epsilon_0}{2\\hbar} \\eta^+ \\{\\varepsilon_1^- \\varepsilon_1^+ \\chi(-\\omega_1, 1)+\\varepsilon_2^- \\varepsilon_2^+ \\chi(-\\omega_2, 1) - \\varepsilon_1^- \\varepsilon_1^+ \\chi^*(-\\omega_1, 1)-\\varepsilon_2^- \\varepsilon_2^+ \\chi^*(-\\omega_2, 1) \\}- \\frac{i \\epsilon_0}{2\\hbar} \\Delta N_0  \\{ \\varepsilon_1^+\\varepsilon_2^- \\chi(-\\omega_2, 1)- \\varepsilon_1^+\\varepsilon_2^-\\chi^*(-\\omega_1, 1)\\} -\\frac{\\eta^+ }{T_1}$\n",
    "\n",
    "Using \n",
    "\n",
    "$\\chi(-\\omega_i, 1) =\\chi_R(-\\omega_i, 1)+i \\chi_I(-\\omega_i, 1) $\n",
    "\n",
    "Since $\\omega_2-\\Omega=\\Omega-\\omega_1=\\delta$\n",
    "\n",
    "$\\chi(-\\omega_1, 1) = -i\\frac{\\mu_{21}\\mu_{12}}{\\epsilon_0 \\hbar}\\frac{1}{-i \\delta+\\frac{1}{T_2}}= -\\chi^*(-\\omega_2, 1)$\n",
    "\n",
    "$\\chi_R(-\\omega_1, 1) = -\\chi_R(-\\omega_2, 1)$\n",
    "\n",
    "$\\chi_I(-\\omega_1, 1) = \\chi_I(-\\omega_2, 1)$\n",
    "\n",
    "Therefore\n",
    "\n",
    "$\\frac{d \\eta^+}{dt} +i(\\omega_1-\\omega_2) \\eta^+ = \\frac{\\epsilon_0}{\\hbar} \\eta^+ \\{(\\varepsilon_1^- \\varepsilon_1^+ +\\varepsilon_2^- \\varepsilon_2^+ )\\chi_I(-\\omega_2, 1) \\}- \\frac{i \\epsilon_0}{\\hbar} \\Delta N_0   \\varepsilon_1^+\\varepsilon_2^- \\chi(-\\omega_2, 1)  -\\frac{\\eta^+ }{T_1}$\n",
    "\n",
    "$\\frac{d \\eta^+}{dt} +i(\\omega_1-\\omega_2) \\eta^+  + \\frac{\\eta^+}{\\tilde{T_1}}= - \\frac{i \\epsilon_0}{\\hbar} \\Delta N_0   \\varepsilon_1^+\\varepsilon_2^- \\chi(-\\omega_2, 1)  $\n",
    "\n",
    "where $\\frac{1}{\\tilde{T_1}}=\\frac{1}{T_1}-\\frac{\\epsilon_0}{\\hbar}  \\{(\\varepsilon_1^- \\varepsilon_1^+ +\\varepsilon_2^- \\varepsilon_2^+ )\\chi_I(-\\omega_2, 1) \\}$\n",
    "\n",
    "Steady state solution\n",
    "\n",
    "$\\eta^+ = -\\frac{ \\frac{i \\epsilon_0}{\\hbar}    \\varepsilon_1^+\\varepsilon_2^- \\chi(-\\omega_2, 1)}{i(\\omega_1-\\omega_2)  + \\frac{1}{\\tilde{T_1}}} \\Delta N_0 = \\beta^+ \\varepsilon_1^+\\varepsilon_2^- \\Delta N_0$\n",
    "\n",
    "where \n",
    "\n",
    "$\\beta^+ = -\\frac{ \\frac{i \\epsilon_0}{\\hbar}   \\chi(-\\omega_2, 1)}{i(\\omega_1-\\omega_2)  + \\frac{1}{\\tilde{T_1}}}$\n",
    "\n",
    "\n",
    "Similarly\n",
    "\n",
    "$\\eta^- = -\\frac{ \\frac{i \\epsilon_0}{\\hbar}    \\varepsilon_1^-\\varepsilon_2^+ \\chi(-\\omega_1, 1)}{-i(\\omega_1-\\omega_2)  + \\frac{1}{\\tilde{T_1}}} \\Delta N_0 = \\beta^- \\varepsilon_1^-\\varepsilon_2^+ \\Delta N_0$\n",
    "\n",
    "where \n",
    "\n",
    "$\\beta^- = -\\frac{ \\frac{i \\epsilon_0}{\\hbar}   \\chi(-\\omega_1, 1)}{-i(\\omega_1-\\omega_2)  + \\frac{1}{\\tilde{T_1}}}$"
   ]
  },
  {
   "cell_type": "markdown",
   "metadata": {},
   "source": [
    "## Part 4"
   ]
  },
  {
   "cell_type": "markdown",
   "metadata": {},
   "source": [
    "(1) Polarization\n",
    "\n",
    "$P(t) = P_{12}(t)\\mu_{12} + P_{21}(t)\\mu_{21}=\\epsilon_0 \\Delta N \\chi(-\\omega_1, 1)\\frac{1}{2}\\varepsilon_1^- e^{-i \\omega_1t}+\\epsilon_0  \\Delta N \\chi(-\\omega_2, 1)\\frac{1}{2}\\varepsilon_2^- e^{-i \\omega_2t} + c.c.\\\\\n",
    "= (\\Delta N_0 + \\eta^+ e^{i(\\omega_1-\\omega_2)t}+ \\eta^- e^{-i(\\omega_1-\\omega_2)t}) (\\epsilon_0 \\chi(-\\omega_1, 1)\\frac{1}{2}\\varepsilon_1^- e^{-i \\omega_1t} + \\epsilon_0 \\chi(-\\omega_2, 1)\\frac{1}{2}\\varepsilon_2^- e^{-i \\omega_2t}) + c.c. \\\\\n",
    "=\\Delta N_0 (1 + \\beta^+ \\varepsilon_1^+ \\varepsilon_2^- e^{i(\\omega_1-\\omega_2)t}+ \\beta^- \\varepsilon_1^- \\varepsilon_2^+ e^{-i(\\omega_1-\\omega_2)t}) (\\epsilon_0 \\chi(-\\omega_1, 1)\\frac{1}{2}\\varepsilon_1^- e^{-i \\omega_1t} + \\epsilon_0 \\chi(-\\omega_2, 1)\\frac{1}{2}\\varepsilon_2^- e^{-i \\omega_2t}) + c.c. \\\\\n",
    "= \\Delta N_0 (\\epsilon_0 \\chi(-\\omega_1, 1)\\frac{1}{2}\\epsilon_1^- e^{-i \\omega_1t} + \\epsilon_0 \\chi(-\\omega_2, 1)\\frac{1}{2}\\varepsilon_2^- e^{-i \\omega_2t} + \\epsilon_0 \\chi(-\\omega_1, 1)\\frac{1}{2} \\beta^+ \\varepsilon_1^+ \\varepsilon_1^- \\varepsilon_2^- e^{-i\\omega_2t} +  \\epsilon_0 \\chi(-\\omega_2, 1)\\frac{1}{2} \\beta^+ \\varepsilon_1^+ \\varepsilon_2^-\\varepsilon_2^- e^{i(\\omega_1-2\\omega_2)t}+\\epsilon_0 \\chi(-\\omega_1, 1)\\frac{1}{2} \\beta^- \\varepsilon_1^- \\varepsilon_1^- \\varepsilon_2^+ e^{-i(2\\omega_1-\\omega_2)t} +  \\epsilon_0 \\chi(-\\omega_2, 1)\\frac{1}{2} \\beta^- \\varepsilon_1^- \\varepsilon_2^+\\varepsilon_2^- e^{- i\\omega_1t} ) + c.c.$\n",
    "\n",
    "oscillates at four frequencies $\\omega_1, \\omega_2, 2\\omega_1-\\omega_2, 2\\omega_2-\\omega_1$\n",
    "\n",
    "The corresponding third order susceptibilities are\n",
    "\n",
    "$\\chi^{(3)}(-\\omega_1, \\omega_1, -\\omega_2, \\Delta N_0) = 4 \\Delta N_0 \\chi(-\\omega_1, 1) \\beta^+ = - 4 \\Delta N_0 \\frac{ \\frac{i \\epsilon_0}{\\hbar}   \\chi(-\\omega_2, 1) \\chi(-\\omega_1, 1)}{i(\\omega_1-\\omega_2)  + \\frac{1}{\\tilde{T_1}}}$\n",
    "\n",
    "$\\chi^{(3)}(-\\omega_2, \\omega_2, -\\omega_1, \\Delta N_0) = 4 \\Delta N_0 \\chi(-\\omega_2, 1) \\beta^- = -4 \\Delta N_0 \\frac{ \\frac{i \\epsilon_0}{\\hbar}   \\chi(-\\omega_2, 1) \\chi(-\\omega_1, 1)}{-i(\\omega_1-\\omega_2)  + \\frac{1}{\\tilde{T_1}}}$\n",
    "\n",
    "$\\chi^{(3)}(-\\omega_1, -\\omega_1, \\omega_2, \\Delta N_0) = 4 \\Delta N_0 \\chi(-\\omega_1, 1) \\beta^- = -4 \\Delta N_0 \\frac{ \\frac{i \\epsilon_0}{\\hbar}   \\chi(-\\omega_1, 1)^2}{-i(\\omega_1-\\omega_2)  + \\frac{1}{\\tilde{T_1}}}$\n",
    "\n",
    "$\\chi^{(3)}(-\\omega_2, -\\omega_2, \\omega_1, \\Delta N_0) = 4 \\Delta N_0 \\chi(-\\omega_2, 1) \\beta^+= -4 \\Delta N_0 \\frac{ \\frac{i \\epsilon_0}{\\hbar}   \\chi(-\\omega_2, 1)^2}{i(\\omega_1-\\omega_2)  + \\frac{1}{\\tilde{T_1}}}$\n",
    "\n",
    "$P(t)$ is defined as\n",
    "\n",
    "$P(t)=\\epsilon_0 \\chi(-\\omega_1, \\Delta N_0)\\frac{1}{2}\\varepsilon_1^- e^{-i \\omega_1t}+\\epsilon_0  \\chi(-\\omega_2, \\Delta N_0)\\frac{1}{2}\\varepsilon_2^- e^{-i \\omega_2t} + \\epsilon_0 \\chi^{(3)}(-\\omega_1, \\omega_1, -\\omega_2, \\Delta N_0) \\frac{1}{2}\\varepsilon_1^- e^{-i \\omega_1t} \\frac{1}{2}\\varepsilon_1^+ e^{i \\omega_1t} \\frac{1}{2}\\varepsilon_2^- e^{-i \\omega_2t}+  \\epsilon_0 \\chi^{(3)}(-\\omega_2, \\omega_2, -\\omega_1, \\Delta N_0) \\frac{1}{2}\\varepsilon_2^- e^{-i \\omega_2t} \\frac{1}{2}\\varepsilon_2^+ e^{i \\omega_2t} \\frac{1}{2}\\varepsilon_1^- e^{-i \\omega_1t}  +  \\epsilon_0 \\chi^{(3)}(-\\omega_1, -\\omega_1, \\omega_2, \\Delta N_0) \\frac{1}{2}\\varepsilon_1^- e^{-i \\omega_1t} \\frac{1}{2}\\varepsilon_1^- e^{-i \\omega_1t} \\frac{1}{2}\\varepsilon_2^+ e^{i \\omega_2t}  +  \\epsilon_0 \\chi^{(3)}(-\\omega_2, -\\omega_2, \\omega_1, \\Delta N_0)\\frac{1}{2}\\varepsilon_2^- e^{-i \\omega_2t} \\frac{1}{2}\\varepsilon_2^- e^{-i \\omega_2t} \\frac{1}{2}\\varepsilon_1^+ e^{i \\omega_1t} + c.c.$"
   ]
  },
  {
   "cell_type": "markdown",
   "metadata": {},
   "source": [
    "(2) Consider the wave equation along the $z$ direction\n",
    "\n",
    "$\\frac{\\partial^2 E}{\\partial z^2} -\\frac{1}{c^2} \\frac{\\partial^2 E}{\\partial t^2} = \\mu_0 \\frac{\\partial^2 P}{\\partial t^2}$\n",
    "\n",
    "\n",
    "From above, we have\n",
    "\n",
    "$P(t)=\\epsilon_0 \\chi(-\\omega_1, \\Delta N_0)\\frac{1}{2}\\varepsilon_1^- e^{-i \\omega_1t}+\\epsilon_0  \\chi(-\\omega_2, \\Delta N_0)\\frac{1}{2}\\varepsilon_2^- e^{-i \\omega_2t} + \\epsilon_0 \\chi^{(3)}(-\\omega_1, \\omega_1, -\\omega_2, \\Delta N_0) \\frac{1}{8}\\varepsilon_1^- \\varepsilon_1^+  \\varepsilon_2^- e^{-i \\omega_2t}+  \\epsilon_0 \\chi^{(3)}(-\\omega_2, \\omega_2, -\\omega_1, \\Delta N_0) \\frac{1}{8}\\varepsilon_2^- \\varepsilon_2^+ \\varepsilon_1^- e^{-i \\omega_1t}  +  \\epsilon_0 \\chi^{(3)}(-\\omega_1, -\\omega_1, \\omega_2, \\Delta N_0) \\frac{1}{8}\\varepsilon_1^- \\varepsilon_1^- \\varepsilon_2^+ e^{-i(2\\omega_1- \\omega_2)t}  +  \\epsilon_0 \\chi^{(3)}(-\\omega_2, -\\omega_2, \\omega_1, \\Delta N_0)\\frac{1}{8}\\varepsilon_2^- \\varepsilon_2^-\\varepsilon_1^+ e^{i(\\omega_1-2\\omega_2 )t} + c.c.$\n",
    "\n",
    "$\\frac{\\partial^2 P}{\\partial t^2} = -\\omega_1^2\\epsilon_0 \\chi(-\\omega_1, \\Delta N_0)\\frac{1}{2}\\varepsilon_1^- e^{-i \\omega_1t}-\\omega_2^2\\epsilon_0  \\chi(-\\omega_2, \\Delta N_0)\\frac{1}{2}\\varepsilon_2^- e^{-i \\omega_2t} -\\omega_2^2 \\epsilon_0 \\chi^{(3)}(-\\omega_1, \\omega_1, -\\omega_2, \\Delta N_0) \\frac{1}{8}\\varepsilon_1^- \\varepsilon_1^+  \\varepsilon_2^- e^{-i \\omega_2t}-\\omega_1^2  \\epsilon_0 \\chi^{(3)}(-\\omega_2, \\omega_2, -\\omega_1, \\Delta N_0) \\frac{1}{8}\\varepsilon_2^- \\varepsilon_2^+ \\varepsilon_1^- e^{-i \\omega_1t}  -(2\\omega_1-\\omega_2)^2  \\epsilon_0 \\chi^{(3)}(-\\omega_1, -\\omega_1, \\omega_2, \\Delta N_0) \\frac{1}{8}\\varepsilon_1^- \\varepsilon_1^- \\varepsilon_2^+ e^{-i(2\\omega_1- \\omega_2)t}  +  -(\\omega_1-2\\omega_2)^2\\epsilon_0 \\chi^{(3)}(-\\omega_2, -\\omega_2, \\omega_1, \\Delta N_0)\\frac{1}{8}\\varepsilon_2^- \\varepsilon_2^-\\varepsilon_1^+ e^{i(\\omega_1-2\\omega_2 )t} + c.c.$\n",
    "\n",
    "The the plane wave solution has the form\n",
    "\n",
    "$E = \\frac{1}{2}E_1^- e^{-i(\\omega_1 t - k_1z)} + \\frac{1}{2}E_2^- e^{-i(\\omega_2 t - k_2z)}+ \\frac{1}{2}E_3^- e^{-i((2\\omega_1-\\omega_2) t - k_3z)} + \\frac{1}{2}E_4^- e^{-i((2\\omega_2-\\omega_1) t - k_4z)} + c.c.$\n",
    "\n",
    "Consider the solution with frequency $\\omega_1$ and $\\omega_2$, we have\n",
    "\n",
    "$-k_1^2 \\frac{1}{2}E_1^- +\\frac{\\omega_1^2}{c^2}\\frac{1}{2}E_1^-=   -\\frac{\\omega_1^2}{c^2} \\chi(-\\omega_1, \\Delta N_0)\\frac{1}{2}\\varepsilon_1^- -\\frac{\\omega_1^2}{c^2} \\chi^{(3)}(-\\omega_2, \\omega_2, -\\omega_1, \\Delta N_0) \\frac{1}{8}\\varepsilon_2^- \\varepsilon_2^+ \\varepsilon_1^- $\n",
    "\n",
    "Then\n",
    "\n",
    "$k_1^2  = \\frac{\\omega_1^2}{c^2}\\{ 1+  \\chi(-\\omega_1, \\Delta N_0)\\frac{\\varepsilon_1^-}{E_1^-} + \\chi^{(3)}(-\\omega_2, \\omega_2, -\\omega_1, \\Delta N_0) \\frac{1}{4}\\varepsilon_2^- \\varepsilon_2^+ \\frac{\\varepsilon_1^-}{E_1^-} \\}$\n",
    "\n",
    "Since $\\chi(\\cdot)$ and $\\chi^{(3)}(\\cdot)$ are small compared to $1$, then \n",
    "\n",
    "$\\varepsilon_1^- \\simeq E_1^-$\n",
    "\n",
    "$k_1  = \\frac{\\omega_1}{c}\\{ 1+  \\frac{1}{2}\\chi(-\\omega_1, \\Delta N_0) + \\frac{1}{8} \\chi^{(3)}(-\\omega_2, \\omega_2, -\\omega_1, \\Delta N_0) \\varepsilon_2^- \\varepsilon_2^+  \\}$\n",
    "\n",
    "Similarly\n",
    "\n",
    "$k_2  = \\frac{\\omega_2}{c}\\{ 1+  \\frac{1}{2}\\chi(-\\omega_2, \\Delta N_0) + \\frac{1}{8} \\chi^{(3)}(-\\omega_1, \\omega_1, -\\omega_2, \\Delta N_0) \\varepsilon_1^- \\varepsilon_1^+  \\}$\n",
    "\n",
    "Therefore, the effective dispersion and absorption of the $\\chi^{(3)}$ terms are \n",
    "\n",
    "$\\frac{1}{8} \\mbox{Re}\\{\\chi^{(3)}(-\\omega_2, \\omega_2, -\\omega_1, \\Delta N_0)\\} \\varepsilon_2^- \\varepsilon_2^+ = \\frac{1}{2} \\mbox{Re}\\{\\Delta N_0 \\chi(-\\omega_2, 1) \\beta^- \\} \\varepsilon_2^- \\varepsilon_2^+  $\n",
    "\n",
    "$\\frac{1}{8} \\mbox{Im}\\{\\chi^{(3)}(-\\omega_2, \\omega_2, -\\omega_1, \\Delta N_0)\\} \\varepsilon_2^- \\varepsilon_2^+ = \\frac{1}{2} \\mbox{Im}\\{\\Delta N_0 \\chi(-\\omega_2, 1) \\beta^- \\} \\varepsilon_2^- \\varepsilon_2^+$\n",
    "\n",
    "$\\frac{1}{8} \\mbox{Re} \\{\\chi^{(3)}(-\\omega_1, \\omega_1, -\\omega_2, \\Delta N_0)\\} \\varepsilon_1^- \\varepsilon_1^+ = \\frac{1}{2} \\mbox{Re}\\{\\Delta N_0 \\chi(-\\omega_1, 1) \\beta^+ \\} \\varepsilon_1^- \\varepsilon_1^+$\n",
    "\n",
    "$\\frac{1}{8} \\mbox{Im} \\{\\chi^{(3)}(-\\omega_1, \\omega_1, -\\omega_2, \\Delta N_0)\\} \\varepsilon_1^- \\varepsilon_1^+ =\\frac{1}{2} \\mbox{Im}\\{\\Delta N_0 \\chi(-\\omega_1, 1) \\beta^+ \\} \\varepsilon_1^- \\varepsilon_1^+$\n",
    "\n",
    "where \n",
    "\n",
    "$\\Delta N_0 \\chi(-\\omega_2, 1) \\beta^-= -\\Delta N_0 \\frac{ \\frac{i \\epsilon_0}{\\hbar}   \\chi(-\\omega_2, 1) \\chi(-\\omega_1, 1)}{-i(\\omega_1-\\omega_2)  + \\frac{1}{\\tilde{T_1}}}=\\Delta N_0 \\frac{ \\frac{i \\epsilon_0}{\\hbar}  | \\chi(-\\omega_2, 1)|^2}{-i(\\omega_1-\\omega_2)  + \\frac{1}{\\tilde{T_1}}} = \\Delta N_0 \\frac{ \\epsilon_0}{\\hbar} | \\chi(-\\omega_2, 1)|^2 \\frac{-(\\omega_1-\\omega_2) + i\\frac{1}{\\tilde{T_1}}}{(\\omega_1-\\omega_2)^2  + \\frac{1}{\\tilde{T_1^2}}} =\\Delta N_0 \\frac{ \\epsilon_0^3 \\mu_{21}^2\\mu_{12}^2}{\\hbar^3} \\frac{1}{ (\\Omega - \\omega_2)^2+\n",
    "\\frac{1}{T_2^2}} \\frac{-(\\omega_1-\\omega_2) + i\\frac{1}{\\tilde{T_1}}}{(\\omega_1-\\omega_2)^2  + \\frac{1}{\\tilde{T_1^2}}} =\\Delta N_0 \\frac{ \\epsilon_0^3 \\mu_{21}^2\\mu_{12}^2}{\\hbar^3} \\frac{1}{ \\delta^2+\\frac{1}{T_2^2}} \\frac{2 \\delta + i\\frac{1}{\\tilde{T_1}}}{4\\delta^2  + \\frac{1}{\\tilde{T_1^2}}} $\n",
    "\n",
    "Similarly\n",
    "\n",
    "$\\Delta N_0 \\chi(-\\omega_1, 1) \\beta^+ = \\Delta N_0 \\frac{ \\epsilon_0^3 \\mu_{21}^2\\mu_{12}^2}{\\hbar^3} \\frac{1}{ \\delta^2+\\frac{1}{T_2^2}} \\frac{- 2 \\delta + i\\frac{1}{\\tilde{T_1}}}{4\\delta^2  + \\frac{1}{\\tilde{T_1^2}}} $\n",
    "\n",
    "Then\n",
    "\n",
    "$\\frac{1}{8} \\mbox{Re}\\{\\chi^{(3)}(-\\omega_2, \\omega_2, -\\omega_1, \\Delta N_0)\\} \\varepsilon_2^- \\varepsilon_2^+ =   \\frac{1}{2} \\Delta N_0 \\frac{ \\epsilon_0^3 \\mu_{21}^2\\mu_{12}^2}{\\hbar^3} \\frac{1}{ \\delta^2+\\frac{1}{T_2^2}} \\frac{2 \\delta }{4\\delta^2  + \\frac{1}{\\tilde{T_1^2}}} \\varepsilon_2^- \\varepsilon_2^+$\n",
    "\n",
    "$\\frac{1}{8} \\mbox{Im}\\{\\chi^{(3)}(-\\omega_2, \\omega_2, -\\omega_1, \\Delta N_0)\\} \\varepsilon_2^- \\varepsilon_2^+ = \\frac{1}{2} \\Delta N_0 \\frac{ \\epsilon_0^3 \\mu_{21}^2\\mu_{12}^2}{\\hbar^3} \\frac{1}{ \\delta^2+\\frac{1}{T_2^2}} \\frac{\\frac{1}{\\tilde{T_1}}}{4\\delta^2  + \\frac{1}{\\tilde{T_1^2}}} \\varepsilon_2^- \\varepsilon_2^+$\n",
    "\n",
    "$\\frac{1}{8} \\mbox{Re} \\{\\chi^{(3)}(-\\omega_1, \\omega_1, -\\omega_2, \\Delta N_0)\\} \\varepsilon_1^- \\varepsilon_1^+ = \\frac{1}{2} \\Delta N_0 \\frac{ \\epsilon_0^3 \\mu_{21}^2\\mu_{12}^2}{\\hbar^3} \\frac{1}{ \\delta^2+\\frac{1}{T_2^2}} \\frac{-2 \\delta }{4\\delta^2  + \\frac{1}{\\tilde{T_1^2}}} \\varepsilon_1^- \\varepsilon_1^+$\n",
    "\n",
    "$\\frac{1}{8} \\mbox{Im} \\{\\chi^{(3)}(-\\omega_1, \\omega_1, -\\omega_2, \\Delta N_0)\\} \\varepsilon_1^- \\varepsilon_1^+= \\frac{1}{2} \\Delta N_0 \\frac{ \\epsilon_0^3 \\mu_{21}^2\\mu_{12}^2}{\\hbar^3} \\frac{1}{ \\delta^2+\\frac{1}{T_2^2}} \\frac{\\frac{1}{\\tilde{T_1}}}{4\\delta^2  + \\frac{1}{\\tilde{T_1^2}}} \\varepsilon_1^- \\varepsilon_1^+$\n",
    "\n",
    "If $ \\Delta N_0 > 0$, absorption\n",
    "\n",
    "If $ \\Delta N_0 < 0$, gain\n",
    "\n",
    "If $ \\Delta N_0 = 0$, transparency\n"
   ]
  }
 ],
 "metadata": {
  "kernelspec": {
   "display_name": "Python 2",
   "language": "python",
   "name": "python2"
  },
  "language_info": {
   "codemirror_mode": {
    "name": "ipython",
    "version": 2
   },
   "file_extension": ".py",
   "mimetype": "text/x-python",
   "name": "python",
   "nbconvert_exporter": "python",
   "pygments_lexer": "ipython2",
   "version": "2.7.6"
  }
 },
 "nbformat": 4,
 "nbformat_minor": 0
}
