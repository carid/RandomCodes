{
 "cells": [
  {
   "cell_type": "markdown",
   "metadata": {},
   "source": [
    "I'm running out of paper, that's why I wrote my homework in a pdf file. Otherwise I will never use it because it took a lot of time..."
   ]
  },
  {
   "cell_type": "markdown",
   "metadata": {},
   "source": [
    "# 1. Electronic heat capacity of a supercondoctur"
   ]
  },
  {
   "cell_type": "markdown",
   "metadata": {},
   "source": [
    "(a) DOS of the superconductor is\n",
    "\n",
    "$\\rho(E) dE=\\int \\frac{d^d k}{(2 \\pi)^d} \\delta (E-E_k) dE =\\int \\frac{d^d k}{(2 \\pi)^d} \\delta (\\varepsilon-\\varepsilon_k) d \\varepsilon =\\int \\frac{d^d k}{(2 \\pi)^d} \\delta (\\varepsilon-\\varepsilon_k) \\frac{d \\varepsilon}{dE} dE=\\rho_0 \\frac{d \\varepsilon}{dE} dE  $\n",
    "\n",
    "where $E=E_F\\pm \\sqrt{\\Delta^2+(\\varepsilon-E_F)^2}$\n",
    "\n",
    "$\\frac{dE}{d \\varepsilon}=\\pm \\frac{\\varepsilon-E_F}{\\sqrt{\\Delta^2+(\\varepsilon-E_F)^2}}=\\frac{|\\varepsilon-E_F|}{\\sqrt{\\Delta^2+(\\varepsilon-E_F)^2}}=\\frac{\\sqrt{(E-E_F)^2-\\Delta^2}}{|E-E_F|}, \\ |E-E_F|\\ge \\Delta$\n",
    "\n",
    "Therefore\n",
    "\n",
    "$\\rho(E)=\\rho_0 \\frac{|E-E_F|}{\\sqrt{(E-E_F)^2-\\Delta^2}} , \\ |E-E_F|\\ge \\Delta$\n",
    "\n",
    "otherwise $\\rho(E)=0$"
   ]
  },
  {
   "cell_type": "markdown",
   "metadata": {},
   "source": [
    "(b) The DOS looks like\n",
    "\n",
    "<img style=\"float: left;\", src=\"files/SC.png\", width=350>"
   ]
  },
  {
   "cell_type": "markdown",
   "metadata": {},
   "source": [
    "(c) Define $E-E_F=x$, total energy\n",
    "\n",
    "$U=2\\int_{\\Delta}^{\\infty}(x+E_F)f(x)\\rho(x) dx =2\\int_{\\Delta}^{\\infty}(x+E_F)\\frac{1}{e^{x/T}+1}\\rho_0 \\frac{x}{\\sqrt{x^2-\\Delta^2}}$\n",
    "\n",
    "When $T\\ll \\Delta , \\ f(x)\\simeq e^{-x/T}$. Also assume $\\rho_0 \\frac{x}{\\sqrt{x^2-\\Delta^2}}$ remains constant as long as $|x| \\sim \\Delta$ or $e^{-x/T}$ is not extremely small.\n",
    "\n",
    "Therefore\n",
    "\n",
    "$U\\simeq 2\\int_{\\Delta}^{\\infty}(x+E_F)e^{-x/T}\\rho_0 $\n",
    "\n",
    "Using integrals\n",
    "\n",
    "$\\int_{\\Delta}^{\\infty} e^{-x/T} dx=Te^{-\\Delta/T}$\n",
    "\n",
    "$\\int_{\\Delta}^{\\infty} xe^{-x/T} dx=T(\\Delta+T)e^{-\\Delta/T}$\n",
    "\n",
    "Then we have\n",
    "\n",
    "$U\\simeq 2T(\\Delta+T+E_F)e^{-\\Delta/T}\\rho_0 $"
   ]
  },
  {
   "cell_type": "markdown",
   "metadata": {},
   "source": [
    "(d) The main contribution to electronic heat capacity comes from those density of states near the Fermi energy. We can then use the analytic result from (c)\n",
    "\n",
    "$C_e=(\\frac{\\partial U}{\\partial T})_{N,V} \\simeq 2(\\frac{(\\Delta+E_F)\\Delta}{T}+2 \\Delta+E_F+2T)e^{-\\Delta/T}\\rho_0 $\n",
    "\n",
    "<img style=\"float: left;\", src=\"files/HCforSC.png\", width=350>"
   ]
  },
  {
   "cell_type": "markdown",
   "metadata": {},
   "source": [
    "# 2. Calculating the Sommerfeld expansion for a 1-d metal"
   ]
  },
  {
   "cell_type": "markdown",
   "metadata": {},
   "source": [
    "<img style=\"float: left;\", src=\"files/BandStructure.png\", width=350>"
   ]
  },
  {
   "cell_type": "markdown",
   "metadata": {},
   "source": [
    "(a) If the band is half fill, the electronic density in $k$ space is $g \\frac{a}{2\\pi}, \\ k \\in (-\\frac{\\pi}{2a}, \\frac{\\pi}{2a})$, where $g$ is the spin degeneracy, $g=2$ for electrons\n",
    "\n",
    "Therefore, the electronic density in $x$ space is\n",
    "\n",
    "$\\int_{-\\frac{\\pi}{2a}}^{\\frac{\\pi}{2a}} g \\frac{a}{2\\pi} e^{-ikx} dk= \\frac{g}{2} \\mbox{sinc} ( \\frac{\\pi x}{2 a} ), \\ x \\in (-\\frac{a}{2},\\frac{a}{2})$, where $\\mbox{sinc}(y)=\\frac{\\mbox{sin}(y)}{y}$\n",
    "\n",
    "<img style=\"float: left;\", src=\"files/Sincx.png\", width=350>"
   ]
  },
  {
   "cell_type": "markdown",
   "metadata": {},
   "source": [
    "(b) Fermi energy of system corresponds to the highest $\\varepsilon_k$. Suppose the number density of the electron per unit cell is $n=\\frac{N}{a}$, the band will fill up to $k_F=\\pm \\frac{1}{g} \\frac{2\\pi}{a} n$ (Note $n$ is also the filling factor of the band).\n",
    "\n",
    "Therefore, \n",
    "\n",
    "$E_F=\\mu=-t \\mbox{cos} (ka)\\mid_{k=\\pm \\frac{1}{g} \\frac{2\\pi}{a} n}=-t\\mbox{cos} ( \\frac{1}{g} 2\\pi n)$"
   ]
  },
  {
   "cell_type": "markdown",
   "metadata": {},
   "source": [
    "(c) Density of states\n",
    "\n",
    "$\\rho (\\varepsilon)d\\varepsilon=\\int \\frac{dk}{2 \\pi} \\delta(\\varepsilon-\\varepsilon_k)d\\varepsilon=\\int \\frac{dk}{2 \\pi} \\delta(k-k_\\varepsilon) \\frac{dk}{d\\varepsilon} d\\varepsilon = g\\frac{a}{2\\pi}\\frac{1}{at\\mbox{sin}(ka)}d \\varepsilon=\\frac{g}{2\\pi}\\frac{1}{\\sqrt{t^2-\\varepsilon^2}}d \\varepsilon, \\ \\varepsilon \\in (-t,t)$\n",
    "\n",
    "<img style=\"float: left;\", src=\"files/DOS1.png\", width=350>"
   ]
  },
  {
   "cell_type": "markdown",
   "metadata": {
    "collapsed": true
   },
   "source": [
    "(d) Total energy in the band (in a unit cell)\n",
    "\n",
    "$U=\\int_{-t}^t \\varepsilon f(\\varepsilon) \\rho(\\varepsilon) d\\varepsilon =\\int_{-t}^t \\frac{g}{2\\pi}\\varepsilon \\frac{1}{\\sqrt{t^2-\\varepsilon^2}} \\frac{1}{e^{(\\varepsilon-\\mu)/T}+1}d \\varepsilon$\n",
    "\n",
    "Using Sommerfeld expansion\n",
    "\n",
    "$\\int_{-t}^t h(\\varepsilon) \\frac{1}{e^{\\varepsilon/T}+1}d \\varepsilon = \\int_{-t}^\\mu h(\\varepsilon) d \\varepsilon  + \\int_{-t}^\\mu h(\\varepsilon) (\\frac{1}{e^{(\\varepsilon-\\mu)/T}+1}-1)d \\varepsilon + \\int_{\\mu}^t h(\\varepsilon) \\frac{1}{e^{(\\varepsilon-\\mu)/T}+1}d \\varepsilon=\\int_{-t}^{\\mu} h(\\varepsilon) d \\varepsilon  - \\int_{-t}^\\mu h(\\varepsilon) \\frac{1}{e^{-(\\varepsilon-\\mu)/T}+1}d \\varepsilon + \\int_{\\mu}^t h(\\varepsilon) \\frac{1}{e^{(\\varepsilon-\\mu)/T}+1}d \\varepsilon$\n",
    "\n",
    "Substitute $(\\varepsilon-\\mu)$ to $-(\\varepsilon-\\mu)$ in the second integration, and let the upper limits of the integration $t+\\mu, t-\\mu$ be $\\infty$\n",
    "\n",
    "$\\int_{-t}^{\\mu} h(\\varepsilon) d \\varepsilon + \\int_{0}^{\\infty} (h(\\mu+\\varepsilon)-h(\\mu-\\varepsilon)) \\frac{1}{e^{\\varepsilon/T}+1}d \\varepsilon$\n",
    "\n",
    "where \n",
    "\n",
    "$h(\\mu+\\varepsilon)-h(\\mu-\\varepsilon)=2\\sum_{n=0}^{\\infty}\\frac{1}{(2n+1)!}h^{(2n+1)}(\\mu) \\varepsilon^{2n+1}$\n",
    "\n",
    "Therefore\n",
    "\n",
    "$\\int_{-t}^{\\mu} h(\\varepsilon) d \\varepsilon + 2\\sum_{n=0}^{\\infty}\\frac{1}{(2n+1)!}h^{(2n+1)}(\\mu)  \\int_{0}^{\\infty}  \\frac{x^{2n+1}}{e^{x}+1}d x T^{2n+2}$"
   ]
  },
  {
   "cell_type": "markdown",
   "metadata": {},
   "source": [
    "Up to $T^4$, we have\n",
    "\n",
    "$U=\\frac{g}{2\\pi}\\{ -\\sqrt{t^2-\\mu^2}+ \\frac{\\pi^2}{6} \\frac{t^2}{\\sqrt{t^2-\\mu^2}^3}T^2 + \\frac{7 \\pi^4}{360} \\frac{3t^2\\mu}{\\sqrt{t^2-\\mu^2}^5}T^4 \\}$"
   ]
  },
  {
   "cell_type": "markdown",
   "metadata": {
    "collapsed": true
   },
   "source": [
    "(e) Up to $T^3$, the heat capacity of the electron gas is\n",
    "\n",
    "$C_e=(\\frac{\\partial U}{\\partial T} )_{V,N}=\\frac{g}{2\\pi}\\{\\frac{\\pi^2}{3} \\frac{t^2}{\\sqrt{t^2-\\mu^2}^3}T + \\frac{7 \\pi^4}{30} \\frac{t^2\\mu}{\\sqrt{t^2-\\mu^2}^5}T^3 \\}$"
   ]
  },
  {
   "cell_type": "markdown",
   "metadata": {},
   "source": [
    "(f) If chemical potential $\\mu$ is held constant at $E_F$, the number of particles in a unit cell is \n",
    "\n",
    "$N =\\int_{-t}^t f(\\varepsilon) \\rho(\\varepsilon) d\\varepsilon =\\int_{-t}^t \\frac{g}{2\\pi} \\frac{1}{\\sqrt{t^2-\\varepsilon^2}} \\frac{1}{e^{(\\varepsilon-\\mu)/T}+1}d \\varepsilon$\n",
    "\n",
    "Using Sommerfeld expansion, we have\n",
    "\n",
    "$N={\\frac{g}{2\\pi}\\{ \\mbox{arctan}(\\frac{3t^2\\mu}{\\sqrt{t^2-\\mu^2}})+\\frac{\\pi}{2}\\}+ 2\\sum_{n=0}^{\\infty}\\frac{1}{(2n+1)!}\\rho^{(2n+1)}(\\mu)  \\int_{0}^{\\infty}  \\frac{x^{2n+1}}{e^{x}+1}d x} T^{2n+2} $\n",
    "\n",
    "For example, up to $T^4$\n",
    "\n",
    "$N={\\frac{g}{2\\pi}\\{ \\mbox{arctan}(\\frac{3t^2\\mu}{\\sqrt{t^2-\\mu^2}})+\\frac{\\pi}{2}+ \\frac{\\pi^2}{6} \\frac{\\mu}{\\sqrt{t^2-\\mu^2}^3}T^2 + \\frac{7 \\pi^4}{360} \\frac{t^2+2\\mu^2}{\\sqrt{t^2-\\mu^2}^5}T^4 \\}}$"
   ]
  },
  {
   "cell_type": "markdown",
   "metadata": {},
   "source": [
    "Consistency check: if $\\mu=0$, ie, half filled, then to the 0th order, $N=\\frac{g}{4}$, number density $n=g\\frac{a}{4}$, Fermi vector $k_F=\\pm \\frac{1}{g} \\frac{2\\pi}{a}n=\\pm \\frac{\\pi}{2}$, $\\mu=0$"
   ]
  },
  {
   "cell_type": "markdown",
   "metadata": {},
   "source": [
    "# 3. Adiabatic expansion"
   ]
  },
  {
   "cell_type": "markdown",
   "metadata": {},
   "source": [
    "(a) Proof.\n",
    "\n",
    "$\\mbox{RHS}=(\\frac{\\partial P}{ \\partial V})_{S,N}=(\\frac{\\partial P}{ \\partial V})_{T,N}+(\\frac{\\partial P}{ \\partial T})_{V,N}(\\frac{\\partial T}{ \\partial V})_{S,N}=(\\frac{\\partial P}{ \\partial V})_{T,N}\\{1+\\frac{(\\frac{\\partial P}{ \\partial T})_{V,N}(\\frac{\\partial T}{ \\partial V})_{S,N}}{(\\frac{\\partial P}{ \\partial V})_{T,N}}  \\}$\n",
    "\n",
    "where \n",
    "\n",
    "$\\frac{(\\frac{\\partial P}{ \\partial T})_{V,N}(\\frac{\\partial T}{ \\partial V})_{S,N}}{(\\frac{\\partial P}{ \\partial V})_{T,N}} = -(\\frac{\\partial V}{ \\partial T})_{P,N} (\\frac{\\partial T}{ \\partial V})_{S,N}=(\\frac{\\partial V}{ \\partial T})_{P,N} \\frac{(\\frac{\\partial S}{ \\partial V})_{T,N}}{(\\frac{\\partial S}{ \\partial T})_{V,N}}$\n",
    "\n",
    "Therefore\n",
    "\n",
    "$\\mbox{RHS}=(\\frac{\\partial P}{ \\partial V})_{T,N}\\{1+(\\frac{\\partial V}{ \\partial T})_{P,N} \\frac{(\\frac{\\partial S}{ \\partial V})_{T,N}}{(\\frac{\\partial S}{ \\partial T})_{V,N}}  \\}=\\frac{(\\frac{\\partial P}{ \\partial V})_{T,N}}{(\\frac{\\partial S}{ \\partial T})_{V,N}} \\{(\\frac{\\partial S}{ \\partial T})_{V,N}+ (\\frac{\\partial V}{ \\partial T})_{P,N} (\\frac{\\partial S}{ \\partial V})_{T,N}\\} =\\frac{(\\frac{\\partial P}{ \\partial V})_{T,N}}{(\\frac{\\partial S}{ \\partial T})_{V,N}} (\\frac{\\partial S}{ \\partial T})_{P,N}= \\frac{C_P}{C_V}(\\frac{\\partial P}{ \\partial V})_{T,N}=\\frac{C_P}{C_V(\\frac{\\partial V}{ \\partial P})_{T,N}}=-\\frac{C_P}{C_V V \\kappa_T} =\\mbox{LHS}$"
   ]
  },
  {
   "cell_type": "markdown",
   "metadata": {},
   "source": [
    "(b) For an ideal gas, $PV=NT$, $(\\frac{\\partial V}{ \\partial P})_{T,N}=-\\frac{NT}{P^2}$, $\\frac{C_P}{C_V}=\\gamma$ is a constant\n",
    "\n",
    "Then we have\n",
    "\n",
    "$(\\frac{\\partial P}{ \\partial V})_{S,N}=-\\frac{\\gamma P^2}{NT}= -\\frac{\\gamma P}{V}$\n",
    "\n",
    "$(\\frac{\\partial P}{P})_{S,N}=-\\gamma (\\frac{\\partial V}{V})_{S,N}$\n",
    "\n",
    "$(PV^{\\gamma})_{S,N}=constant$\n"
   ]
  },
  {
   "cell_type": "markdown",
   "metadata": {},
   "source": [
    "(c) For monoatomic ideal gas in $d$ dimensions\n",
    "\n",
    "$U=U_{\\mbox{kinetic}}=\\frac{1}{2}dNT$ (equipartition theorem)\n",
    "\n",
    "$C_V=(\\frac{\\partial U}{\\partial T} )_{V,N}=\\frac{1}{2}dN$\n",
    "\n",
    "$C_P=C_V+N=(\\frac{1}{2}d+1)N$ (ideal gas law)\n",
    "\n",
    "Then $\\gamma_{\\mbox{mono}}=1+\\frac{2}{d}$\n",
    "\n",
    "For diatomic ideal gas in $d$ dimensions (with no vibrational excitations)\n",
    "\n",
    "$U=U_{\\mbox{kinetic}}+U_{\\mbox{rotational}}$ \n",
    "\n",
    "Assume the rotation is confined to $3d$ and due to two rotation axes. The partition function for a single molecule is given in PS5, which is\n",
    "\n",
    "$Z_1=\\frac{8 \\pi^2 I T}{h^2}$\n",
    "\n",
    "where $I$ is the moment of inertia about the center axis perpendicular to the line connecting the two atoms\n",
    "\n",
    "Free energy $F=-T\\mbox{ln}(Z_N)=-NT\\{\\mbox{ln}(\\frac{8 \\pi^2 I T}{h^2 N}) +1\\}$\n",
    "\n",
    "Entropy $S=-(\\frac{\\partial F}{\\partial T})_{N,V}=N\\{\\mbox{ln}(\\frac{8 \\pi^2 I T}{h^2 N}) +2\\}$\n",
    "\n",
    "$U_{\\mbox{rotational}}=F+TS=NT$ (not suprising because of the equipartition theorem)\n",
    "\n",
    "$C_V=(\\frac{\\partial U}{\\partial T} )_{V,N}=(\\frac{1}{2}d+1)N$\n",
    "\n",
    "$C_P=C_V+N=(\\frac{1}{2}d+2)N$ \n",
    "\n",
    "Then $\\gamma_{\\mbox{di}}=1+\\frac{2}{d+2}$"
   ]
  },
  {
   "cell_type": "markdown",
   "metadata": {},
   "source": [
    "# 4. White dwarves"
   ]
  },
  {
   "cell_type": "markdown",
   "metadata": {},
   "source": [
    "(a) For non-reletivistic free electrons, we have (derived in class)\n",
    "\n",
    "$E_F=\\frac{\\hbar^2}{2m} (3 \\pi^2 \\frac{N}{V})^{\\frac{2}{3}}$ (include $g=2$ for electrons)\n",
    "\n",
    "where $N=\\frac{2M}{m_{He}}$, $V=\\frac{4}{3}\\pi R^3$, $m_{He}$ is the atomic mass of helium (ignore the mass contribution from the electrons and all electrons are not bound to the atom, thus each nuclei will give two electrons)\n",
    "\n",
    "Therefore $E_F=\\frac{\\hbar^2}{2m} (\\frac{9}{4} \\frac{\\pi}{R^3}\\frac{2M}{m_{He} })^{\\frac{2}{3}}$"
   ]
  },
  {
   "cell_type": "markdown",
   "metadata": {},
   "source": [
    "(b) Total energy of the electron gas is (derived in class)\n",
    "\n",
    "$U_e=\\frac{3}{5}E_F N= \\frac{3}{5}\\frac{\\hbar^2}{2m} ( \\frac{3 \\pi^2}{V})^{\\frac{2}{3}}N^{\\frac{5}{3}}= \\frac{3}{5}\\frac{\\hbar^2}{2m} ( \\frac{9}{4}\\frac{\\pi}{ R^3})^{\\frac{2}{3}}(\\frac{2M}{m_{He}})^{\\frac{5}{3}}$"
   ]
  },
  {
   "cell_type": "markdown",
   "metadata": {},
   "source": [
    "(c) The gravitational potential between two objects with mass $m_1$ and $m_2$ is \n",
    "\n",
    "$U(m_1, m_2)=-\\frac{Gm_1m_2}{r}$\n",
    "\n",
    "Then consider piling up a sphere with radius $R$ and density $\\rho$, the work done on this process is \n",
    "\n",
    "$W=-\\int_0^R\\frac{Gm(r)dm}{r}=-\\int_0^R\\frac{G\\frac{4}{3}\\pi r^3 \\rho}{r}4 \\pi r^2 \\rho dr=-\\int_0^RG\\frac{4}{3}\\pi^2\\rho^2 r^4  dr =-G\\frac{16}{15}\\pi^2  \\rho^2 R^5 $\n",
    "\n",
    "Using $M=\\frac{4}{3}\\pi R^3 \\rho$, $W=-\\frac{3}{5}\\frac{G M^2}{R} $\n",
    "\n",
    "Therefore the gravitational energy of the star is \n",
    "\n",
    "$U_g=-\\frac{3}{5}\\frac{G M^2}{R}$"
   ]
  },
  {
   "cell_type": "markdown",
   "metadata": {},
   "source": [
    "(d) Total energy of the star\n",
    "\n",
    "$U(R)=U_e+U_g= \\frac{3}{5}\\frac{\\hbar^2}{2m} ( \\frac{9}{4}\\pi)^{\\frac{2}{3}}(\\frac{2M}{m_{He}})^{\\frac{5}{3}}\\frac{1}{R^2}-\\frac{3}{5}\\frac{G M^2}{R}=\\frac{A}{R^2}-\\frac{B}{R}$\n",
    "\n",
    "In equilibrium\n",
    "\n",
    "$\\frac{dU}{dR}=0$, $\\frac{2A}{R^3}=\\frac{B}{R^2}$, $R=\\frac{2A}{B}$\n",
    "\n",
    "Plug in the detailed numbers, we have\n",
    "\n",
    "$A=1.941\\times 10^{56}  \\mbox{J}\\cdot\\mbox{m}^2(\\frac{M}{M_{S}})^{\\frac{5}{3}}$\n",
    "\n",
    "$B=4.004\\times 10^{49}  \\mbox{J}\\cdot\\mbox{m}\\ (\\frac{M}{M_{S}})^{2}$\n",
    "\n",
    "where $M_S$ is the mass of the sun\n",
    "\n",
    "Then $R=9.695\\times 10^{6} \\mbox{m} (\\frac{M}{M_{S}})^{-\\frac{1}{3}}$\n",
    "\n",
    "<img style=\"float: left;\", src=\"files/Radius.png\", width=350>"
   ]
  },
  {
   "cell_type": "markdown",
   "metadata": {},
   "source": [
    "The Fermi energy is \n",
    "\n",
    "$E_F=\\frac{5}{3}\\frac{U_e}{N}=\\frac{5}{3}\\frac{A}{R^2N}=68.67 \\mbox{keV} (\\frac{M}{M_{S}})^{\\frac{4}{3}}$\n",
    "\n",
    "whereas the rest energy of the electron is $511 \\mbox{keV}$, $E_F$ is $13.4\\%$ os the rest energy when $M=M_S$\n",
    "\n",
    "The electrons can't be atreated non-reletivistically"
   ]
  },
  {
   "cell_type": "markdown",
   "metadata": {},
   "source": [
    "(e) For ultra-relativistic electrons, the Fermi momentum is the same as the non-relativistic case\n",
    "\n",
    "$p_F=\\hbar (3 \\pi^2 \\frac{N}{V})^{\\frac{1}{3}}$ (include $g=2$ for electrons)\n",
    "\n",
    "In ultra-relativistic limit\n",
    "\n",
    "$E_F=p_F c=\\hbar c (3 \\pi^2 \\frac{N}{V})^{\\frac{1}{3}}$\n",
    "\n",
    "Total energy of the electron gas is \n",
    "\n",
    "$U_e=\\frac{3}{4}E_F N=\\frac{3}{4}\\hbar c( \\frac{3 \\pi^2}{V})^{\\frac{1}{3}}N^{\\frac{4}{3}}= \\frac{3}{4}\\hbar c ( \\frac{9}{4}\\frac{\\pi}{ R^3})^{\\frac{1}{3}}(\\frac{2M}{m_{He}})^{\\frac{4}{3}}$ \n",
    "\n",
    "(Sorry I didn't derive it... Just copied from wiki. It's too late and the derivation is trivial...)\n",
    "\n",
    "Total energy of the star is \n",
    "\n",
    "$U(R)=U_e+U_g= \\frac{3}{4}\\hbar c ( \\frac{9}{4}\\pi)^{\\frac{1}{3}}(\\frac{2M}{m_{He}})^{\\frac{4}{3}}\\frac{1}{R}-\\frac{3}{5}\\frac{G M^2}{R}=\\frac{C}{R}-\\frac{B}{R}$\n",
    "\n",
    "where \n",
    "\n",
    "$C=9.262\\times 10^{49} \\mbox{J}\\cdot\\mbox{m}\\ (\\frac{M}{M_{S}})^{\\frac{4}{3}}$\n",
    "\n",
    "$B=4.004\\times 10^{49} \\mbox{J}\\cdot\\mbox{m}\\ (\\frac{M}{M_{S}})^{2}$ is the same as before"
   ]
  },
  {
   "cell_type": "markdown",
   "metadata": {},
   "source": [
    "(f) For the start to be stable, $\\frac{dU}{dR}=-\\frac{C-B}{R^2}<0$, i.e.,\n",
    "\n",
    "$9.262 (\\frac{M}{M_{S}})^{\\frac{4}{3}}> 4.004 (\\frac{M}{M_{S}})^{2}$\n",
    "\n",
    "$\\frac{M}{M_{S}} < (\\frac{9.262}{4.004})^{\\frac{3}{2}}\\simeq 3.52$\n",
    "\n",
    "This is a strange number... which should be around $1.4$"
   ]
  }
 ],
 "metadata": {
  "kernelspec": {
   "display_name": "Python 2",
   "language": "python",
   "name": "python2"
  },
  "language_info": {
   "codemirror_mode": {
    "name": "ipython",
    "version": 2
   },
   "file_extension": ".py",
   "mimetype": "text/x-python",
   "name": "python",
   "nbconvert_exporter": "python",
   "pygments_lexer": "ipython2",
   "version": "2.7.6"
  }
 },
 "nbformat": 4,
 "nbformat_minor": 0
}
