{
 "cells": [
  {
   "cell_type": "markdown",
   "metadata": {},
   "source": [
    "# 1. Interacting magnetic system"
   ]
  },
  {
   "cell_type": "markdown",
   "metadata": {},
   "source": [
    "(a) Magnetic free energy of the system is defined as\n",
    "\n",
    "$d \\mathcal{F} = -SdT-PdV+\\mu dN - MdH$\n",
    "\n",
    "where\n",
    "\n",
    "$M=-(\\frac{\\partial \\mathcal{F}}{\\partial H})_{TVN}=aN \\frac{H}{1+bnH} \\frac{1}{T}$\n",
    "\n",
    "$C_V = T(\\frac{\\partial S}{\\partial T})_{VN, H=0}=\\mbox{constant}$\n",
    "\n",
    "$\\kappa_T = -\\frac{1}{V}(\\frac{\\partial V}{\\partial P})_{TN, H=0}=\\mbox{constant}$\n",
    "\n",
    "Therefore\n",
    "\n",
    "$\\mathcal{F}=aN (-\\frac{H}{bn}+\\frac{1}{(bn)^2}\\mbox{ln}(1+bnH) )\\frac{1}{T}+f(TVN, H=0)$\n",
    "\n",
    "$S = C_V \\mbox{ln}(T/T_0)+g(N, T_0, V_0)$\n",
    "\n",
    "$P = -\\frac{1}{\\kappa_T} \\mbox{ln}(V/V_0)-h(N, T_0, V_0)$"
   ]
  },
  {
   "cell_type": "markdown",
   "metadata": {},
   "source": [
    "On the other hand, $f(TVN, H=0)$ satisfies \n",
    "\n",
    "$df=-SdT-PdV+\\mu dN=-(C_V \\mbox{ln}(T/T_0)+g(N, T_0, V_0))dT+(\\frac{1}{\\kappa_T} \\mbox{ln}(V/V_0)+h(N, T_0, V_0))dV+\\mu dN$\n",
    "\n",
    "and \n",
    "\n",
    "$(\\frac{\\partial \\mu}{\\partial T})_{NV}=-(\\frac{\\partial S}{\\partial N})_{TV}=-\\frac{dg}{dN}$\n",
    "\n",
    "$(\\frac{\\partial \\mu}{\\partial V})_{NT}=-(\\frac{\\partial P}{\\partial N})_{VT}=\\frac{dh}{dN}$\n",
    "\n",
    "or\n",
    "\n",
    "$\\mu=-\\frac{dg}{dN} (T-T_0)+\\frac{dh}{dN}(V-V_0)+l(N,T_0, V_0)$\n",
    "\n"
   ]
  },
  {
   "cell_type": "markdown",
   "metadata": {},
   "source": [
    "Then\n",
    "\n",
    "$f=-C_V T(\\mbox{ln}(T/T_0)-1)- C_VT_0-g(N, T_0, V_0)(T-T_0)+\\\\\n",
    "\\frac{1}{\\kappa_T} V(\\mbox{ln}(V/V_0)-1)+ \\frac{1}{\\kappa_T} V_0+h(N, T_0, V_0)(V-V_0)-\\\\\n",
    "(g(N, T_0, V_0)-g(N_0, T_0, V_0)) (T-T_0)+(h(N, T_0, V_0)-h(N_0, T_0, V_0))(V-V_0)+l(N,T_0, V_0)\n",
    "-l(N_0,T_0, V_0)$\n",
    "\n",
    "$f=-C_V T(\\mbox{ln}(T/T_0)-1)-(2g(N, T_0, V_0)-g(N_0, T_0, V_0)) (T-T_0)+\\frac{1}{\\kappa_T} V(\\mbox{ln}(V/V_0)-1)+(2h(N, T_0, V_0)-h(N_0, T_0, V_0))(V-V_0)+l(N,T_0, V_0)\n",
    "-l(N_0,T_0, V_0)- C_VT_0+\\frac{1}{\\kappa_T} V_0$"
   ]
  },
  {
   "cell_type": "markdown",
   "metadata": {},
   "source": [
    "Omit a constant offset\n",
    "\n",
    "$f=-C_V T\\mbox{ln}(T)-g(N)T+\\frac{1}{\\kappa_T} V\\mbox{ln}(V)+h(N)V+l(N)$\n",
    "\n",
    "where $g(\\cdot), h(\\cdot), l(\\cdot)$ are new functions of $N$ different from the above"
   ]
  },
  {
   "cell_type": "markdown",
   "metadata": {},
   "source": [
    "Therefore\n",
    "\n",
    "$\\mathcal{F}=aN (-\\frac{H}{bn}+\\frac{1}{(bn)^2}\\mbox{ln}(1+bnH) )\\frac{1}{T}-C_V T\\mbox{ln}(T)-g(N)T+\\frac{1}{\\kappa_T} V\\mbox{ln}(V)+h(N)V+l(N)$"
   ]
  },
  {
   "cell_type": "markdown",
   "metadata": {},
   "source": [
    "(b) Define magnetic Gibbs free energy as $\\mathcal{G}=\\mathcal{F}+PV$\n",
    "\n",
    "$d \\mathcal{G} = -SdT+VdP+\\mu dN - MdH$\n",
    "\n",
    "Then\n",
    "\n",
    "$(\\frac{\\partial V}{\\partial H})_{PTN}=-(\\frac{\\partial M}{\\partial P})_{HTN}=-\\frac{(\\frac{\\partial M}{\\partial n})_{HTN}}{(\\frac{\\partial P}{\\partial n})_{HTN}}$\n",
    "\n",
    "where \n",
    "\n",
    "$(\\frac{\\partial M}{\\partial n})_{HTN}=-aN \\frac{bH^2}{(1+bnH)^2} \\frac{1}{T}$\n",
    "\n",
    "$(\\frac{\\partial P}{\\partial n})_{HTN}=-(\\frac{\\partial^2 \\mathcal{F}}{\\partial n \\partial V})_{HTN}=\\frac{n^2}{N}(\\frac{\\partial^2 \\mathcal{F}}{\\partial n^2})_{HTN}+\\frac{2n}{N}\\frac{\\partial \\mathcal{F}}{\\partial n}$\n",
    "\n",
    "where\n",
    "\n",
    "$(\\frac{\\partial \\mathcal{F}}{\\partial n})_{HTN}=aN (\\frac{H}{bn^2}-\\frac{2}{b^2n^3}\\mbox{ln}(1+bnH)+\\frac{1}{b^2n^2}\\frac{bH}{1+bnH} )\\frac{1}{T}+\\frac{N}{\\kappa_T}\\frac{1}{n^2}(\\mbox{ln}(n)-1)-h(N)\\frac{N}{n^3}$\n",
    "\n",
    "$(\\frac{\\partial^2 \\mathcal{F}}{\\partial n^2})_{HTN}=aN (-\\frac{2H}{bn^3}-\\frac{6}{b^2n^4}\\frac{bH}{1+bnH}-\\frac{2}{b^2n^3}\\mbox{ln}(1+bnH)-\\frac{2}{b^2n^3}\\frac{bH}{1+bnH} -\\frac{1}{b^2n^2}\\frac{b^2H^2}{(1+bnH)^2})\\frac{1}{T}-\\frac{N}{\\kappa_T}\\frac{2}{n^3}(\\mbox{ln}(n)-1)+\\frac{N}{\\kappa_T}\\frac{1}{n^3}-3h(N)\\frac{N}{n^4}$\n",
    "\n"
   ]
  },
  {
   "cell_type": "markdown",
   "metadata": {},
   "source": [
    "$(\\frac{\\partial P}{\\partial n})_{HTN}=a (\\frac{2H}{bn}-\\frac{4}{b^2n^2}\\mbox{ln}(1+bnH)+\\frac{2}{b^2n}\\frac{bH}{1+bnH} )\\frac{1}{T}+\\frac{1}{\\kappa_T}\\frac{2}{n}(\\mbox{ln}(n)-1)-h(N)\\frac{2}{n^2}+a (-\\frac{2H}{bn}-\\frac{6}{b^2n^2}\\frac{bH}{1+bnH}-\\frac{2}{b^2n}\\mbox{ln}(1+bnH)-\\frac{2}{b^2n}\\frac{bH}{1+bnH} -\\frac{1}{b^2}\\frac{b^2H^2}{(1+bnH)^2})\\frac{1}{T}-\\frac{1}{\\kappa_T}\\frac{2}{n}(\\mbox{ln}(n)-1)+\\frac{1}{\\kappa_T}\\frac{1}{n}-3h(N)\\frac{1}{n^2}\\\\\n",
    "=a (-\\frac{4}{b^2n^2}\\mbox{ln}(1+bnH) -\\frac{6}{b^2n^2}\\frac{bH}{1+bnH}-\\frac{2}{b^2n}\\mbox{ln}(1+bnH)-\\frac{1}{b^2}\\frac{b^2H^2}{(1+bnH)^2})\\frac{1}{T}+\\frac{1}{\\kappa_T}\\frac{1}{n}-h(N)\\frac{2}{n^2}-3h(N)\\frac{1}{n^2}$"
   ]
  },
  {
   "cell_type": "markdown",
   "metadata": {},
   "source": [
    "Magnetostriction coefficient\n",
    "\n",
    "$\\epsilon=\\frac{1}{V}(\\frac{\\partial V}{\\partial H})_{PTN}=\\frac{a \\frac{bnH^2}{(1+bnH)^2} \\frac{1}{T}}{a (-\\frac{4}{b^2n^2}\\mbox{ln}(1+bnH) -\\frac{6}{b^2n^2}\\frac{bH}{1+bnH}-\\frac{2}{b^2n}\\mbox{ln}(1+bnH)-\\frac{1}{b^2}\\frac{b^2H^2}{(1+bnH)^2})\\frac{1}{T}+\\frac{1}{\\kappa_T}\\frac{1}{n}-5h(N)\\frac{1}{n^2}}$\n",
    "\n",
    "$\\lim_{H \\rightarrow 0}\\epsilon=\\frac{a \\frac{bnH^2}{(1+bnH)^2} \\frac{1}{T}}{a (-\\frac{4}{b^2n^2}(bnH) -\\frac{6}{b^2n^2}\\frac{bH}{1+bnH}-\\frac{2}{b^2n}(bnH)-\\frac{1}{b^2}\\frac{b^2H^2}{(1+bnH)^2})\\frac{1}{T}+\\frac{1}{\\kappa_T}\\frac{1}{n}-5h(N)\\frac{1}{n^2}}=\\frac{a bn^3 \\frac{1}{T}}{\\frac{1}{\\kappa_T}n-5h(N)}H^2+o(H^2)$\n",
    "\n",
    "Hope this is correct..."
   ]
  },
  {
   "cell_type": "markdown",
   "metadata": {},
   "source": [
    "(c) Since $\\mathcal{F}=U^{int}-HM-TS=aN (-\\frac{H}{bn}+\\frac{1}{(bn)^2}\\mbox{ln}(1+bnH) )\\frac{1}{T}-C_V T\\mbox{ln}(T)-g(N)T+\\frac{1}{\\kappa_T} V\\mbox{ln}(V)+h(N)V+l(N)$\n",
    "\n",
    "Plug in $S$ and $M$, we have\n",
    "\n",
    "$U^{int}=aN (-\\frac{H}{bn}+\\frac{H^2}{1+bnH}+\\frac{1}{(bn)^2}\\mbox{ln}(1+bnH) )\\frac{1}{T}-g^{'}(N)T+\\frac{1}{\\kappa_T} V\\mbox{ln}(V)+h(N)V+l(N)$\n",
    "\n",
    "Then \n",
    "\n",
    "$H^{int}=-(\\frac{\\partial U^{int}}{\\partial M})_{NVT}=-\\frac{(\\frac{\\partial U^{int}}{\\partial H})_{NVT}}{(\\frac{\\partial M}{\\partial H})_{NVT}}=\\frac{-\\frac{1}{bn}+\\frac{2H}{1+bnH}+\\frac{1}{(bn)^2}\\frac{bn}{1+bnH} }{\\frac{1}{1+bnH} +\\frac{bnH}{(1+bnH)^2}}=\\frac{-\\frac{1}{bn}+\\frac{2H}{1+bnH}+\\frac{1}{(bn)^2}\\frac{bn}{1+bnH} }{\\frac{1}{1+bnH} +\\frac{bnH}{(1+bnH)^2}}=\\frac{1+bnH}{1+2bnH}H$\n",
    "\n",
    "If $bnH \\in (-\\infty,-1)$ or $(-\\frac{1}{2}, \\infty)$, ferromagnetic\n",
    "\n",
    "\n",
    "If $bnH \\in (-1,-\\frac{1}{2})$ , antiferromagnetic\n",
    "\n",
    "If $bnH =-1$ , $H^{int}=0$\n",
    "\n",
    "If $bnH = -\\frac{1}{2}$ , $H^{int}$ will diverge"
   ]
  },
  {
   "cell_type": "markdown",
   "metadata": {},
   "source": [
    "# 2. Debye theory of heat capacity in solid"
   ]
  },
  {
   "cell_type": "markdown",
   "metadata": {},
   "source": [
    "(a) The degrees of freedom of all atoms in the lattice is $f=3N-6$, where the $3$ translational and $3$ rotational  degrees of  freedom of the mass center are subtracted.\n",
    "\n",
    "Therefore\n",
    "\n",
    "$3\\frac{V}{8 \\pi^3}\\int_0^{k_{max}} 4\\pi k^2 dk=\\frac{V}{2 \\pi^2} k_{max}^3=\\frac{\\pi V}{2 } \\frac{1}{a_{eff}^3}=3N-6$\n",
    "\n",
    "$a_{eff}=(\\frac{\\pi V}{6N-12})^{\\frac{1}{3}}\\simeq(\\frac{\\pi V}{6N})^{\\frac{1}{3}}=(\\frac{\\pi }{6})^{\\frac{1}{3}}a$"
   ]
  },
  {
   "cell_type": "markdown",
   "metadata": {},
   "source": [
    "(b) Given $N, V, T$, the partition function is $Z=\\sum_{n=0}^{\\infty}e^{-\\beta n\\hbar ck}=\\frac{1}{1-e^{-\\beta \\hbar ck}}, \\ \\beta =\\frac{1}{T}$\n",
    "\n",
    "\n",
    "Therefore $n_k=\\sum_{n=0}^{\\infty}\\frac{n e^{-\\beta n \\hbar ck}}{Z}=-\\frac{1}{\\hbar ck}\\frac{\\partial}{\\partial \\beta} \\mbox{ln} Z=\\frac{1}{e^{\\beta \\hbar ck}-1}$\n",
    "\n",
    "Then the energy density of phonons are \n",
    "\n",
    "$\\rho_{NV}(T)=\\int 3 \\frac{V}{8 \\pi^3}\\hbar c k n_kdk = \\int 3 \\frac{V}{8 \\pi^3}\\frac{\\hbar c k}{e^{\\beta \\hbar ck}-1}dk=\\int_0^{k_{max}} 3 \\frac{V}{8 \\pi^3}\\frac{4 \\pi \\hbar c k^3}{e^{\\beta \\hbar ck}-1}dk=\\int_0^{k_{max}}  \\frac{3V}{ 2\\pi^2}\\frac{\\hbar c k^3}{e^{\\beta \\hbar ck}-1}dk$"
   ]
  },
  {
   "cell_type": "markdown",
   "metadata": {},
   "source": [
    "If $T \\ll \\hbar c\\frac{\\pi}{a}$, or $\\beta \\hbar c k \\gg 1$ for all $k$, $\\rho_{NV}(T) \\simeq \\int_0^{k_{max}}  \\frac{3V}{2 \\pi^2}\\hbar c k^3 e^{-\\beta \\hbar ck}dk$\n",
    "\n",
    "Define $\\beta \\hbar c k =t \\gg 1$, $\\rho_{NV}(T) = \\int_0^{t_{max}}  \\frac{3V}{2 \\pi^2}\\frac{1}{\\beta^4}\\frac{1}{(\\hbar c)^3} t^3 e^{-t}dt= \\frac{3V}{2 \\pi^2}\\frac{1}{\\beta^4}\\frac{1}{(\\hbar c)^3}  \\{e^{-t_{max}}( -t_{max}^3-3t_{max}^2-6t_{max}-6)+6\\}\\simeq \\frac{9V}{\\pi^2}\\frac{1}{\\beta^4}\\frac{1}{(\\hbar c)^3}=\\frac{9V}{\\pi^2}T^4\\frac{1}{(\\hbar c)^3}$\n",
    "\n",
    "where $t_{max}=\\beta \\hbar c k_{max}=\\frac{\\beta \\hbar c \\pi}{(\\frac{\\pi }{6})^{\\frac{1}{3}}a}$\n",
    "\n",
    "If $T \\gg \\hbar c\\frac{\\pi}{a}$, or $\\beta \\hbar c k \\ll 1$ for all $k$, $\\rho_{NV}(T) \\simeq \\int_0^{k_{max}}  \\frac{3V}{ 2\\pi^2}\\frac{1}{\\beta }k^2 dk =\\frac{V}{ 2\\pi^2}\\frac{1}{\\beta } k_{max}^3=\\frac{3 N}{\\beta}=3NT$\n",
    "\n",
    "Or $U=\\rho_{NV}(T) V=3NVT$"
   ]
  },
  {
   "cell_type": "markdown",
   "metadata": {},
   "source": [
    "(c) Heat capacity\n",
    "\n",
    "$C_V=(\\frac{\\partial U}{\\partial T})_{V, N}=V\\frac{d \\rho_{NV}(T)}{d T}$\n",
    "\n",
    "If $T \\ll \\hbar c\\frac{\\pi}{a}$, or $\\beta \\hbar c k \\gg 1$ for all $k$, $C_V =\\frac{36V^2}{\\pi^2}T^3\\frac{1}{(\\hbar c)^3}$\n",
    "\n",
    "If $T \\gg \\hbar c\\frac{\\pi}{a}$, or $\\beta \\hbar c k \\ll 1$ for all $k$, $C_V =3N$"
   ]
  },
  {
   "cell_type": "markdown",
   "metadata": {},
   "source": [
    "(d) Since $(\\frac{\\partial U}{\\partial V})_{T, N}=(\\frac{\\partial U}{\\partial V})_{S, N}+ (\\frac{\\partial U}{\\partial S})_{V, N} (\\frac{\\partial S}{\\partial V})_{T, N}=-P + T(\\frac{\\partial P}{\\partial T})_{V, N}=\\rho_{NV}(T) $\n",
    "\n",
    "Or $\\frac{\\partial}{\\partial T}(\\frac{P}{ T})_{V, N}=\\frac{\\rho_{NV}(T)}{T^2}$\n",
    "\n",
    "Then \n",
    "\n",
    "\n",
    "If $T \\ll \\hbar c\\frac{\\pi}{a}$, or $\\beta \\hbar c k \\gg 1$ for all $k$, $P =\\frac{3V}{\\pi^2}T^4\\frac{1}{(\\hbar c)^3}$\n",
    "\n",
    "If $T \\gg \\hbar c\\frac{\\pi}{a}$, or $\\beta \\hbar c k \\ll 1$ for all $k$, $P =T\\{3N\\mbox{ln}(T/T_0)+\\frac{P_0}{T_0}\\}$. Let $T_0=1$, we have $P =T\\{3N\\mbox{ln}(T)+P_0\\}$\n",
    "\n",
    "The latter result is very strange...\n"
   ]
  }
 ],
 "metadata": {
  "kernelspec": {
   "display_name": "Python 2",
   "language": "python",
   "name": "python2"
  },
  "language_info": {
   "codemirror_mode": {
    "name": "ipython",
    "version": 2
   },
   "file_extension": ".py",
   "mimetype": "text/x-python",
   "name": "python",
   "nbconvert_exporter": "python",
   "pygments_lexer": "ipython2",
   "version": "2.7.6"
  }
 },
 "nbformat": 4,
 "nbformat_minor": 0
}
