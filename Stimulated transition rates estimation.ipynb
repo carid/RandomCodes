{
 "cells": [
  {
   "cell_type": "markdown",
   "metadata": {},
   "source": [
    "For a two-level system\n",
    "\n",
    "$\\Gamma$ is the spontaneous decay rate. $\\delta$ and $I$ are the detuning and the intensity of  the laser. $\\Omega$ is the Rabi frequency."
   ]
  },
  {
   "cell_type": "markdown",
   "metadata": {},
   "source": [
    "The steady state solution of the optical Bloch equations for the upper state population is\n",
    "\n",
    "$\\rho_{22}=\\frac{\\Omega^2/4}{\\delta^2+\\Omega^2/2+\\Gamma^2/4}$ (Foot, pp137, equ 7.69)\n",
    "\n",
    "Compare this with a simple rate model\n",
    "\n",
    "$\\frac{d\\rho_{2}}{dt}=(\\rho_1-\\rho_2)\\tau I-\\Gamma \\rho_2$\n",
    "\n",
    "$\\frac{d\\rho_{1}}{dt}=-\\frac{d\\rho_{2}}{dt}$\n",
    "\n",
    "which is\n",
    "\n",
    "$\\rho_{2}=\\frac{\\tau I}{2\\tau I+\\Gamma}$\n"
   ]
  },
  {
   "cell_type": "markdown",
   "metadata": {},
   "source": [
    "We can estimate the stimulated emission rate as \n",
    "\n",
    "$\\tau I= \\frac{\\Omega^2}{\\Gamma}\\frac{\\Gamma^2/4}{\\delta^2+\\Gamma^2/4}$ \n",
    "\n",
    "It's related to the saturation parameter\n",
    "\n",
    "$s=\\frac{I}{I_{sat}}=2\\frac{\\Omega^2}{\\Gamma^2}\\frac{\\Gamma^2/4}{\\delta^2+\\Gamma^2/4}$\n",
    "\n",
    "by\n",
    "\n",
    "$\\tau I=\\frac{1}{2}s\\Gamma$"
   ]
  },
  {
   "cell_type": "markdown",
   "metadata": {},
   "source": [
    "# ====================="
   ]
  },
  {
   "cell_type": "markdown",
   "metadata": {},
   "source": [
    "First stage cooling parameters"
   ]
  },
  {
   "cell_type": "markdown",
   "metadata": {},
   "source": [
    "For 461, $I \\approx 0.5 I_{sat}$ (Boyd & Stellmer phd thesis)\n",
    "\n",
    "For 707 & 679, $I  \\approx 0.05 I_{sat}$ (Stellmer phd thesis. He said it's very flexible)"
   ]
  },
  {
   "cell_type": "code",
   "execution_count": null,
   "metadata": {
    "collapsed": true
   },
   "outputs": [],
   "source": []
  }
 ],
 "metadata": {
  "kernelspec": {
   "display_name": "Python 2",
   "language": "python",
   "name": "python2"
  },
  "language_info": {
   "codemirror_mode": {
    "name": "ipython",
    "version": 2
   },
   "file_extension": ".py",
   "mimetype": "text/x-python",
   "name": "python",
   "nbconvert_exporter": "python",
   "pygments_lexer": "ipython2",
   "version": "2.7.10"
  }
 },
 "nbformat": 4,
 "nbformat_minor": 1
}
