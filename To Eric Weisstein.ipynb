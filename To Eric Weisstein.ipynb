{
 "cells": [
  {
   "cell_type": "markdown",
   "metadata": {},
   "source": [
    "Eq (20) is\n",
    "\n",
    "$\\frac{(\\phi_{xx}/\\phi)_x}{\\phi \\phi_{x}}= -\\frac{(\\psi_{tt}/\\psi)_t}{\\psi \\psi_{t}}=-6 k^2  \\ (20)$\n",
    "\n",
    "From it we have \n",
    "\n",
    "$\\frac{d}{dx} (\\frac{\\phi_{xx}}{\\phi})=\\frac{d}{dx} (-3 k^2 \\phi^2)$\n",
    "\n",
    "$\\frac{d}{dt} (\\frac{\\psi_{tt}}{\\psi})=\\frac{d}{dt} (3 k^2 \\psi^2)$\n",
    "\n",
    "Which can be integrated as\n",
    "\n",
    "$\\frac{\\phi_{xx}}{\\phi}-(\\frac{\\phi_{xx}}{\\phi})_0=-3 k^2 \\phi^2 - (-3 k^2 \\phi^2 )_0$\n",
    "\n",
    "$\\frac{\\psi_{tt}}{\\psi}-(\\frac{\\psi_{tt}}{\\psi})_0=3 k^2 \\psi^2 - (3 k^2 \\psi^2 )_0$\n",
    "\n",
    "Define integration constants $a$ and $b$ as\n",
    "\n",
    "$a = ( \\frac{\\phi_{xx}}{\\phi}+ 3 k^2 \\phi^2)_0$\n",
    "\n",
    "$b = (\\frac{\\psi_{tt}}{\\psi}- 3 k^2 \\psi^2)_0$\n",
    "\n",
    "\n",
    "Then\n",
    "\n",
    "$\\frac{\\phi_{xx}}{\\phi}=-3 k^2 \\phi^2 + a$\n",
    "\n",
    "$\\frac{\\psi_{tt}}{\\psi}=3 k^2 \\psi^2 + b$\n",
    "\n",
    "Which are equivalent to\n",
    "\n",
    "$2 \\phi_{xx} \\phi_x=-6 k^2 \\phi^3 \\phi_x + 2 a \\phi \\phi_x$\n",
    "\n",
    "$2 \\psi_{tt} \\psi_t=6 k^2 \\psi^3 \\psi_t + 2 b \\psi \\psi_t$\n",
    "\n",
    "Or\n",
    "\n",
    "$\\frac{d}{dx} \\phi_x^2=\\frac{d}{dx} (-\\frac{3}{2} k^2 \\phi^4 + a \\phi^2)$\n",
    "\n",
    "$\\frac{d}{dt} \\psi_t^2=\\frac{d}{dt} (\\frac{3}{2} k^2 \\psi^4 + b \\psi^2)$\n",
    "\n",
    "Then\n",
    "\n",
    "$\\phi_x^2=-\\frac{3}{2} k^2 \\phi^4 + a \\phi^2 + c$\n",
    "\n",
    "$\\psi_t^2= \\frac{3}{2} k^2 \\psi^4 + b \\psi^2 + d$\n",
    "\n",
    "where \n",
    "\n",
    "$c = ( \\phi_x^2+ \\frac{3}{2} k^2 \\phi^4 - a \\phi^2)_0$\n",
    "\n",
    "$d = (\\psi_t^2- \\frac{3}{2} k^2 \\psi^4  -b \\psi^2 )_0$"
   ]
  },
  {
   "cell_type": "markdown",
   "metadata": {},
   "source": [
    "The sine-Gordon equation (eq (18)) is equivalent to \n",
    "\n",
    "$LHS = (\\phi^2 + \\psi^2) (\\frac{\\phi_{xx}}{\\phi}+ \\frac{\\psi_{tt}}{\\psi}) = \\psi ^2 + 2 \\psi_t^2 - \\phi^2 + 2 \\phi_x^2= RHS$\n",
    "\n",
    "Plug $a, b, c, d$ into it\n",
    "\n",
    "$(a+b)(\\phi^2 + \\psi^2) = LHS +(3 k^2 \\phi^2 - 3 k^2 \\psi^2)(\\phi^2 + \\psi^2)= LHS +3 k^2 \\phi^4 - 3 k^2 \\psi^4$\n",
    "\n",
    "$2(c+d)= 2 \\phi_x^2 + 3 k^2 \\phi^4 - 2 a \\phi^2 +2 \\psi_t^2  -3 k^2 \\psi^4 -2 b \\psi^2  = RHS + 3 k^2 \\phi^4- 2 a \\phi^2  -3 k^2 \\psi^4 -2 b \\psi^2 -\\psi ^2+ \\phi^2$\n",
    "\n",
    "Then\n",
    "\n",
    "$(a+b)(\\phi^2 + \\psi^2) = 2(c+d) + 2 a \\phi^2  + 2 b \\psi^2 + \\psi ^2- \\phi^2 = 2(c+d) + (2 a-1) \\phi^2  + (2 b+1) \\psi^2$\n",
    "\n",
    "Compare the coefficients on both sides, we have\n",
    "\n",
    "$ a = b +1$\n",
    "\n",
    "$c+d=0$"
   ]
  },
  {
   "cell_type": "markdown",
   "metadata": {},
   "source": [
    "Define $a=m^2 > 0 , c=n^2 > 0$, we have\n",
    "\n",
    "$\\phi_x^2=-\\frac{3}{2} k^2 \\phi^4 + m^2 \\phi^2 + n^2$\n",
    "\n",
    "$\\psi_t^2= \\frac{3}{2} k^2 \\psi^4 + (m^2-1)\\psi^2  -n^2$\n",
    "\n",
    "rather than eq (25)-(26)"
   ]
  }
 ],
 "metadata": {
  "kernelspec": {
   "display_name": "Python 2",
   "language": "python",
   "name": "python2"
  },
  "language_info": {
   "codemirror_mode": {
    "name": "ipython",
    "version": 2
   },
   "file_extension": ".py",
   "mimetype": "text/x-python",
   "name": "python",
   "nbconvert_exporter": "python",
   "pygments_lexer": "ipython2",
   "version": "2.7.6"
  }
 },
 "nbformat": 4,
 "nbformat_minor": 0
}
